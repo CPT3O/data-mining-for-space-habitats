{
 "cells": [
  {
   "cell_type": "markdown",
   "id": "80659e1e",
   "metadata": {},
   "source": [
    "\n",
    "# Data Mining for Space Habitats\n",
    "## *Analyzing ISS Environmental Telemetry for Safer Off-World Living*\n",
    "**Kenny Jenkins**  \n",
    "**Department of Computer Science**  \n",
    "**University of Colorado Boulder**  "
   ]
  },
  {
   "cell_type": "markdown",
   "id": "a21834d1",
   "metadata": {},
   "source": [
    "### Section 1: Setup and Imports\n",
    "#### Purpose\n",
    "Initialize libraries, plotting, and configuration for a multi-mission, multi-modal pipeline that supports exploratory analysis, forecasting, anomaly detection, and biological linkage.\n",
    "#### What is implemented\n",
    "1. Core scientific stack: NumPy, Pandas, SciPy, statsmodels, scikit-learn, TensorFlow Keras.\n",
    "2. Visualization: Matplotlib, Seaborn, Plotly.\n",
    "3. Time series utilities: STL decomposition, FFT, Kalman filter, SARIMAX, VAR.\n",
    "4. Streamlit configuration for the dashboard UI.\n",
    "5. Global settings for figure styles and display options.\n",
    "6. Warning suppression for cleaner logs.\n",
    "#### New since AWG\n",
    "- Seasonal ARIMA and VAR have been included for benchmarking against LSTM forecasts.\n",
    "- Configuration variables anticipate multi-mission scaling and future ingestion of behavioral and event context such as docking windows.\n",
    "#### To-Do\n",
    "- Expose a single settings object for mission lists, paths, sampling intervals, and model hyperparameters.\n",
    "- Add a random seed control block for reproducibility across deep learning and statsmodels.\n",
    "- Parameterize figure sizes and export paths for batch reruns."
   ]
  },
  {
   "cell_type": "code",
   "execution_count": 2,
   "id": "7203f770",
   "metadata": {},
   "outputs": [
    {
     "name": "stdout",
     "output_type": "stream",
     "text": [
      "Environment setup complete.\n",
      "TensorFlow: 2.16.2\n",
      "Data roots: ['/Users/kennethjenkins/data/osdr_eda', '/Users/kennethjenkins/Citizen Science/Data Mining for Space Habitats/data']\n",
      "Omics roots: ['/Users/kennethjenkins/data/omics', '/Users/kennethjenkins/Citizen Science/Data Mining for Space Habitats/data/omics']\n",
      "Outputs root: /Users/kennethjenkins/Citizen Science/Data Mining for Space Habitats/outputs\n"
     ]
    }
   ],
   "source": [
    "# ==== Section 1: Setup & Imports (Jupyter-first, Streamlit-safe) ====\n",
    "\n",
    "import os, sys, random, warnings, io, json, time\n",
    "from dataclasses import dataclass, field\n",
    "from datetime import datetime, timedelta\n",
    "from pathlib import Path\n",
    "from typing import Dict, Tuple, List\n",
    "\n",
    "import numpy as np\n",
    "import pandas as pd\n",
    "import matplotlib.pyplot as plt\n",
    "import seaborn as sns\n",
    "\n",
    "# Plotly (optional visual QA)\n",
    "import plotly.express as px\n",
    "import plotly.graph_objects as go\n",
    "\n",
    "# Timeseries & stats\n",
    "from scipy.fft import fft, fftfreq\n",
    "from statsmodels.tsa.seasonal import STL\n",
    "from statsmodels.tsa.statespace.sarimax import SARIMAX\n",
    "from statsmodels.tsa.api import VAR\n",
    "from sklearn.metrics import mean_squared_error, mean_absolute_error\n",
    "from sklearn.preprocessing import MinMaxScaler\n",
    "from pykalman import KalmanFilter\n",
    "\n",
    "# Deep learning\n",
    "import tensorflow as tf\n",
    "from tensorflow.keras.models import Model, Sequential\n",
    "from tensorflow.keras.layers import Input, LSTM, RepeatVector, TimeDistributed, Dense\n",
    "from tensorflow.keras.callbacks import EarlyStopping\n",
    "\n",
    "# tqdm (Jupyter-friendly)\n",
    "from tqdm.notebook import tqdm\n",
    "\n",
    "# ---- Streamlit guard (don’t run page config when in Jupyter) ----\n",
    "# try:\n",
    "#    import streamlit as st\n",
    "#    RUNNING_STREAMLIT = os.environ.get(\"STREAMLIT_SERVER_RUNNING\") == \"1\"\n",
    "#    if RUNNING_STREAMLIT:\n",
    "#        st.set_page_config(page_title=\"ISS Environmental Telemetry & Omics Explorer\", layout=\"wide\")\n",
    "#        st.title(\"ISS Environmental Telemetry & Omics Explorer\")\n",
    "#        st.caption(\"Rodent Research: RR-1, RR-3, RR-6, RR-9, RR-12, RR-19 · Variables: CO₂, Temperature, RH, Pressure, Radiation\")\n",
    "# except Exception:\n",
    "#    RUNNING_STREAMLIT = False\n",
    "\n",
    "# ---- Global Settings object (missions, paths, sampling, fig sizes, seeds) ----\n",
    "@dataclass\n",
    "class Settings:\n",
    "    missions: List[str] = field(default_factory=lambda: ['RR-1','RR-3','RR-4','RR-5','RR-6','RR-8','RR-9','RR-12','RR-17','RR-19'])\n",
    "    sampling: str = \"1min\"\n",
    "    seed: int = 42\n",
    "    fig_size: Tuple[int,int] = (12, 6)\n",
    "\n",
    "    # Data roots (environment or sensible defaults). Put data OUTSIDE macOS-protected folders.\n",
    "    data_roots: List[Path] = field(default_factory=lambda: [\n",
    "        Path(os.environ.get(\"SPACEHAB_DATA\", \"~/data/osdr_eda\")).expanduser(),         # recommended\n",
    "        Path.cwd() / \"data\"                                                             # repo-local fallback\n",
    "    ])\n",
    "    # Optional separate omics root\n",
    "    omics_roots: List[Path] = field(default_factory=lambda: [\n",
    "        Path(os.environ.get(\"SPACEHAB_OMICS\", \"~/data/omics\")).expanduser(),\n",
    "        Path.cwd() / \"data\" / \"omics\"\n",
    "    ])\n",
    "\n",
    "    # Output dirs (all inside repo to avoid permissions/tcc issues)\n",
    "    outputs_root: Path = field(default_factory=lambda: Path.cwd() / \"outputs\")\n",
    "    preprocessed_dir: Path = field(default_factory=lambda: Path.cwd() / \"outputs\" / \"preprocessed\")\n",
    "    pattern_dir: Path = field(default_factory=lambda: Path.cwd() / \"outputs\" / \"pattern_analysis\")\n",
    "    relationships_dir: Path = field(default_factory=lambda: Path.cwd() / \"outputs\" / \"relationships\")\n",
    "    anomalies_dir: Path = field(default_factory=lambda: Path.cwd() / \"outputs\" / \"anomaly_forecast\")\n",
    "\n",
    "S = Settings()\n",
    "\n",
    "# Create output dirs\n",
    "for d in [S.outputs_root, S.preprocessed_dir, S.pattern_dir, S.pattern_dir / \"radiation\",\n",
    "          S.relationships_dir, S.anomalies_dir]:\n",
    "    d.mkdir(parents=True, exist_ok=True)\n",
    "\n",
    "# ---- Reproducibility (NumPy, Python, TF; statsmodels uses NumPy RNG) ----\n",
    "os.environ[\"PYTHONHASHSEED\"] = str(S.seed)\n",
    "os.environ[\"TF_DETERMINISTIC_OPS\"] = \"1\"   # best-effort determinism\n",
    "random.seed(S.seed)\n",
    "np.random.seed(S.seed)\n",
    "tf.random.set_seed(S.seed)\n",
    "\n",
    "# ---- Plotting / Pandas display ----\n",
    "sns.set(style=\"whitegrid\")\n",
    "plt.rcParams[\"figure.figsize\"] = S.fig_size\n",
    "plt.rcParams[\"axes.titlesize\"] = 14\n",
    "plt.rcParams[\"axes.labelsize\"] = 12\n",
    "\n",
    "pd.set_option(\"display.max_columns\", 100)\n",
    "pd.set_option(\"display.width\", 200)\n",
    "pd.set_option(\"display.float_format\", \"{:.2f}\".format)\n",
    "\n",
    "# ---- Clean warnings ----\n",
    "warnings.filterwarnings(\"ignore\")\n",
    "\n",
    "print(\"Environment setup complete.\")\n",
    "print(\"TensorFlow:\", tf.__version__)\n",
    "print(\"Data roots:\", [str(p) for p in S.data_roots])\n",
    "print(\"Omics roots:\", [str(p) for p in S.omics_roots])\n",
    "print(\"Outputs root:\", str(S.outputs_root))\n"
   ]
  },
  {
   "cell_type": "markdown",
   "id": "350f0419",
   "metadata": {},
   "source": [
    "### Section 2: Load and Preview ISS Environmental Telemetry\n",
    "#### Purpose\n",
    "Load EDA Rodent Research telemetry and radiation datasets across missions and load GeneLab omics tables for later linkage. Standardize and validate inputs to support cross-mission analysis.\n",
    "#### What is implemented\n",
    "1. Ingestion for RR missions: summary tables, minute-level telemetry, and radiation logs.\n",
    "2. Omics ingestion for GLDS-98, GLDS-99, and GLDS-104 including differential expression, normalized counts, and metadata.\n",
    "3. Time parsing and schema checks.\n",
    "4. Quick previews, missing value summaries, and first-pass visualizations saved to disk.\n",
    "5. Consolidation into an rr_data dictionary by mission.\n",
    "#### New since AWG\n",
    "- Plan to expand forecasting beyond RR-1 to additional RR missions prioritized by data completeness.\n",
    "- Prepare hooks for additional omics datasets in GeneLab.\n",
    "- Add placeholders for behavioral video and phenotypic data suggested by the group.\n",
    "#### To-Dos\n",
    "- Add loader for event context such as docking or EVA intervals when available.\n",
    "- Create a data availability matrix by mission and variable that the dashboard can display.\n",
    "- Implement light validation tests that fail fast when column names or date formats drift."
   ]
  },
  {
   "cell_type": "code",
   "execution_count": 3,
   "id": "0b0061d7-1fa6-4719-af2a-6aa5acc41672",
   "metadata": {
    "scrolled": true
   },
   "outputs": [
    {
     "name": "stdout",
     "output_type": "stream",
     "text": [
      "[MISS] EDA Rodent Research/RR-1_EDA_Summary_table.csv (check SPACEHAB_DATA)\n",
      "[MISS] EDA Rodent Research/RR-1_EDA_Telemetry_data.csv\n",
      "[MISS] EDA Rodent Research/RR-1_EDA_Radiation_data.csv\n",
      "Checked RR-1\n",
      "[MISS] EDA Rodent Research/RR-3_EDA_Summary_table.csv (check SPACEHAB_DATA)\n",
      "[MISS] EDA Rodent Research/RR-3_EDA_Telemetry_data.csv\n",
      "[MISS] EDA Rodent Research/RR-3_EDA_Radiation_data.csv\n",
      "Checked RR-3\n",
      "[MISS] EDA Rodent Research/RR-4_EDA_Summary_table.csv (check SPACEHAB_DATA)\n",
      "[MISS] EDA Rodent Research/RR-4_EDA_Telemetry_data.csv\n",
      "[MISS] EDA Rodent Research/RR-4_EDA_Radiation_data.csv\n",
      "Checked RR-4\n",
      "[MISS] EDA Rodent Research/RR-5_EDA_Summary_table.csv (check SPACEHAB_DATA)\n",
      "[MISS] EDA Rodent Research/RR-5_EDA_Telemetry_data.csv\n",
      "[MISS] EDA Rodent Research/RR-5_EDA_Radiation_data.csv\n",
      "Checked RR-5\n",
      "[MISS] EDA Rodent Research/RR-6_EDA_Summary_table.csv (check SPACEHAB_DATA)\n",
      "[MISS] EDA Rodent Research/RR-6_EDA_Telemetry_data.csv\n",
      "[MISS] EDA Rodent Research/RR-6_EDA_Radiation_data.csv\n",
      "Checked RR-6\n",
      "[MISS] EDA Rodent Research/RR-8_EDA_Summary_table.csv (check SPACEHAB_DATA)\n",
      "[MISS] EDA Rodent Research/RR-8_EDA_Telemetry_data.csv\n",
      "[MISS] EDA Rodent Research/RR-8_EDA_Radiation_data.csv\n",
      "Checked RR-8\n",
      "[MISS] EDA Rodent Research/RR-9_EDA_Summary_table.csv (check SPACEHAB_DATA)\n",
      "[MISS] EDA Rodent Research/RR-9_EDA_Telemetry_data.csv\n",
      "[MISS] EDA Rodent Research/RR-9_EDA_Radiation_data.csv\n",
      "Checked RR-9\n",
      "[MISS] EDA Rodent Research/RR-12_EDA_Summary_table.csv (check SPACEHAB_DATA)\n",
      "[MISS] EDA Rodent Research/RR-12_EDA_Telemetry_data.csv\n",
      "[MISS] EDA Rodent Research/RR-12_EDA_Radiation_data.csv\n",
      "Checked RR-12\n",
      "[MISS] EDA Rodent Research/RR-17_EDA_Summary_table.csv (check SPACEHAB_DATA)\n",
      "[MISS] EDA Rodent Research/RR-17_EDA_Telemetry_data.csv\n",
      "[MISS] EDA Rodent Research/RR-17_EDA_Radiation_data.csv\n",
      "Checked RR-17\n",
      "[MISS] EDA Rodent Research/RR-19_EDA_Summary_table.csv (check SPACEHAB_DATA)\n",
      "[MISS] EDA Rodent Research/RR-19_EDA_Telemetry_data.csv\n",
      "[MISS] EDA Rodent Research/RR-19_EDA_Radiation_data.csv\n",
      "Checked RR-19\n",
      "[MISS] OMICS GLDS-98:diff → RR-1/GLDS-98/GLDS-98_rna_seq_differential_expression.csv\n",
      "[MISS] OMICS GLDS-98:norm → RR-1/GLDS-98/GLDS-98_rna_seq_Normalized_Counts.csv\n",
      "[MISS] OMICS GLDS-98:meta → RR-1/GLDS-98/GLDS-98_rna_seq_SampleTable.csv\n",
      "[MISS] OMICS GLDS-99:diff → RR-1/GLDS-99/GLDS-99_rna_seq_differential_expression.csv\n",
      "[MISS] OMICS GLDS-99:norm → RR-1/GLDS-99/GLDS-99_rna_seq_Normalized_Counts.csv\n",
      "[MISS] OMICS GLDS-99:meta → RR-1/GLDS-99/GLDS-99_rna_seq_SampleTable.csv\n",
      "[MISS] OMICS GLDS-104:diff → RR-1/GLDS-104/GLDS-104_rna_seq_differential_expression.csv\n",
      "[MISS] OMICS GLDS-104:norm → RR-1/GLDS-104/GLDS-104_rna_seq_Normalized_Counts.csv\n",
      "[MISS] OMICS GLDS-104:meta → RR-1/GLDS-104/GLDS-104_rna_seq_visualization_PCA_table.csv\n",
      "\n",
      "Dataset Availability by Mission:\n"
     ]
    },
    {
     "data": {
      "text/html": [
       "<div>\n",
       "<style scoped>\n",
       "    .dataframe tbody tr th:only-of-type {\n",
       "        vertical-align: middle;\n",
       "    }\n",
       "\n",
       "    .dataframe tbody tr th {\n",
       "        vertical-align: top;\n",
       "    }\n",
       "\n",
       "    .dataframe thead th {\n",
       "        text-align: right;\n",
       "    }\n",
       "</style>\n",
       "<table border=\"1\" class=\"dataframe\">\n",
       "  <thead>\n",
       "    <tr style=\"text-align: right;\">\n",
       "      <th></th>\n",
       "      <th>RR_Mission</th>\n",
       "      <th>Summary Available</th>\n",
       "      <th>Telemetry Available</th>\n",
       "      <th>Radiation Available</th>\n",
       "    </tr>\n",
       "  </thead>\n",
       "  <tbody>\n",
       "    <tr>\n",
       "      <th>0</th>\n",
       "      <td>RR-1</td>\n",
       "      <td>False</td>\n",
       "      <td>False</td>\n",
       "      <td>False</td>\n",
       "    </tr>\n",
       "    <tr>\n",
       "      <th>1</th>\n",
       "      <td>RR-3</td>\n",
       "      <td>False</td>\n",
       "      <td>False</td>\n",
       "      <td>False</td>\n",
       "    </tr>\n",
       "    <tr>\n",
       "      <th>2</th>\n",
       "      <td>RR-4</td>\n",
       "      <td>False</td>\n",
       "      <td>False</td>\n",
       "      <td>False</td>\n",
       "    </tr>\n",
       "    <tr>\n",
       "      <th>3</th>\n",
       "      <td>RR-5</td>\n",
       "      <td>False</td>\n",
       "      <td>False</td>\n",
       "      <td>False</td>\n",
       "    </tr>\n",
       "    <tr>\n",
       "      <th>4</th>\n",
       "      <td>RR-6</td>\n",
       "      <td>False</td>\n",
       "      <td>False</td>\n",
       "      <td>False</td>\n",
       "    </tr>\n",
       "    <tr>\n",
       "      <th>5</th>\n",
       "      <td>RR-8</td>\n",
       "      <td>False</td>\n",
       "      <td>False</td>\n",
       "      <td>False</td>\n",
       "    </tr>\n",
       "    <tr>\n",
       "      <th>6</th>\n",
       "      <td>RR-9</td>\n",
       "      <td>False</td>\n",
       "      <td>False</td>\n",
       "      <td>False</td>\n",
       "    </tr>\n",
       "    <tr>\n",
       "      <th>7</th>\n",
       "      <td>RR-12</td>\n",
       "      <td>False</td>\n",
       "      <td>False</td>\n",
       "      <td>False</td>\n",
       "    </tr>\n",
       "    <tr>\n",
       "      <th>8</th>\n",
       "      <td>RR-17</td>\n",
       "      <td>False</td>\n",
       "      <td>False</td>\n",
       "      <td>False</td>\n",
       "    </tr>\n",
       "    <tr>\n",
       "      <th>9</th>\n",
       "      <td>RR-19</td>\n",
       "      <td>False</td>\n",
       "      <td>False</td>\n",
       "      <td>False</td>\n",
       "    </tr>\n",
       "  </tbody>\n",
       "</table>\n",
       "</div>"
      ],
      "text/plain": [
       "  RR_Mission  Summary Available  Telemetry Available  Radiation Available\n",
       "0       RR-1              False                False                False\n",
       "1       RR-3              False                False                False\n",
       "2       RR-4              False                False                False\n",
       "3       RR-5              False                False                False\n",
       "4       RR-6              False                False                False\n",
       "5       RR-8              False                False                False\n",
       "6       RR-9              False                False                False\n",
       "7      RR-12              False                False                False\n",
       "8      RR-17              False                False                False\n",
       "9      RR-19              False                False                False"
      ]
     },
     "metadata": {},
     "output_type": "display_data"
    }
   ],
   "source": [
    "# ==== Section 2: Load and Preview ISS Environmental and Omics Data ====\n",
    "from pathlib import Path\n",
    "\n",
    "# Helper: try to read a file across multiple roots\n",
    "def find_file(rel_path: str, roots: List[Path]) -> Path | None:\n",
    "    for root in roots:\n",
    "        p = (root / rel_path).expanduser()\n",
    "        if p.exists():\n",
    "            return p\n",
    "    return None\n",
    "\n",
    "def safe_read_csv(path: Path, **kwargs) -> pd.DataFrame | None:\n",
    "    try:\n",
    "        return pd.read_csv(path, **kwargs)\n",
    "    except Exception as e:\n",
    "        print(f\"[READ FAIL] {path}: {e}\")\n",
    "        return None\n",
    "\n",
    "# ---- Where do the EDA files live relative to the root? ----\n",
    "# We keep your original filenames; only the base folder changes.\n",
    "def env_relpaths(rr: str) -> dict:\n",
    "    return {\n",
    "        \"summary\": f\"EDA Rodent Research/{rr}_EDA_Summary_table.csv\",\n",
    "        \"telemetry\": f\"EDA Rodent Research/{rr}_EDA_Telemetry_data.csv\",\n",
    "        \"radiation\": f\"EDA Rodent Research/{rr}_EDA_Radiation_data.csv\",\n",
    "    }\n",
    "\n",
    "# GeneLab omics: allow multiple roots; keys: diff,norm,meta\n",
    "OMICS_MANIFEST = {\n",
    "    \"GLDS-98\": {\n",
    "        \"diff\": \"RR-1/GLDS-98/GLDS-98_rna_seq_differential_expression.csv\",\n",
    "        \"norm\": \"RR-1/GLDS-98/GLDS-98_rna_seq_Normalized_Counts.csv\",\n",
    "        \"meta\": \"RR-1/GLDS-98/GLDS-98_rna_seq_SampleTable.csv\",\n",
    "    },\n",
    "    \"GLDS-99\": {\n",
    "        \"diff\": \"RR-1/GLDS-99/GLDS-99_rna_seq_differential_expression.csv\",\n",
    "        \"norm\": \"RR-1/GLDS-99/GLDS-99_rna_seq_Normalized_Counts.csv\",\n",
    "        \"meta\": \"RR-1/GLDS-99/GLDS-99_rna_seq_SampleTable.csv\",\n",
    "    },\n",
    "    \"GLDS-104\": {\n",
    "        \"diff\": \"RR-1/GLDS-104/GLDS-104_rna_seq_differential_expression.csv\",\n",
    "        \"norm\": \"RR-1/GLDS-104/GLDS-104_rna_seq_Normalized_Counts.csv\",\n",
    "        \"meta\": \"RR-1/GLDS-104/GLDS-104_rna_seq_visualization_PCA_table.csv\",\n",
    "    },\n",
    "}\n",
    "\n",
    "summary_data, telemetry_data, radiation_data = {}, {}, {}\n",
    "ok_summary, ok_telemetry, ok_radiation = set(), set(), set()\n",
    "\n",
    "# Basic schema validators (fail-fast on drift)\n",
    "def require_cols(df: pd.DataFrame, cols: List[str], name: str) -> None:\n",
    "    missing = [c for c in cols if c not in df.columns]\n",
    "    if missing:\n",
    "        raise ValueError(f\"[SCHEMA] {name}: missing columns {missing}\")\n",
    "\n",
    "for rr in S.missions:\n",
    "    rels = env_relpaths(rr)\n",
    "\n",
    "    # Summary\n",
    "    p = find_file(rels[\"summary\"], S.data_roots)\n",
    "    if p:\n",
    "        df = safe_read_csv(p)\n",
    "        if df is not None and not df.empty:\n",
    "            summary_data[rr] = df\n",
    "            ok_summary.add(rr)\n",
    "    else:\n",
    "        print(f\"[MISS] {rels['summary']} (check SPACEHAB_DATA)\")\n",
    "\n",
    "    # Telemetry\n",
    "    p = find_file(rels[\"telemetry\"], S.data_roots)\n",
    "    if p:\n",
    "        df = safe_read_csv(p)\n",
    "        if df is not None and not df.empty:\n",
    "            # Robust time parse\n",
    "            if \"Controller_Time_GMT\" in df.columns:\n",
    "                df[\"Controller_Time_GMT\"] = pd.to_datetime(df[\"Controller_Time_GMT\"], errors=\"coerce\", utc=True)\n",
    "            telemetry_data[rr] = df\n",
    "            ok_telemetry.add(rr)\n",
    "    else:\n",
    "        print(f\"[MISS] {rels['telemetry']}\")\n",
    "\n",
    "    # Radiation\n",
    "    p = find_file(rels[\"radiation\"], S.data_roots)\n",
    "    if p:\n",
    "        df = safe_read_csv(p)\n",
    "        if df is not None and not df.empty:\n",
    "            if \"Date\" in df.columns:\n",
    "                df[\"Date\"] = pd.to_datetime(df[\"Date\"], errors=\"coerce\", utc=True)\n",
    "            radiation_data[rr] = df\n",
    "            ok_radiation.add(rr)\n",
    "    else:\n",
    "        print(f\"[MISS] {rels['radiation']}\")\n",
    "\n",
    "    print(f\"Checked {rr}\")\n",
    "\n",
    "# ---- Omics Loader (optional for RR-1 linkage later) ----\n",
    "omics_data: Dict[str, Dict[str, pd.DataFrame]] = {}\n",
    "for glds, parts in OMICS_MANIFEST.items():\n",
    "    omics_data[glds] = {}\n",
    "    for key, rel in parts.items():\n",
    "        p = find_file(rel, S.omics_roots)\n",
    "        if p:\n",
    "            omics_data[glds][key] = safe_read_csv(p)\n",
    "        else:\n",
    "            print(f\"[MISS] OMICS {glds}:{key} → {rel}\")\n",
    "\n",
    "# Quick previews & availability\n",
    "availability_rows = []\n",
    "for rr in S.missions:\n",
    "    availability_rows.append({\n",
    "        \"RR_Mission\": rr,\n",
    "        \"Summary Available\": rr in ok_summary,\n",
    "        \"Telemetry Available\": rr in ok_telemetry,\n",
    "        \"Radiation Available\": rr in ok_radiation\n",
    "    })\n",
    "availability_df = pd.DataFrame(availability_rows)\n",
    "print(\"\\nDataset Availability by Mission:\")\n",
    "display(availability_df)\n",
    "\n",
    "# Consolidated handle (unchanged interface for later sections)\n",
    "rr_data = {\n",
    "    rr: {\n",
    "        \"summary\": summary_data.get(rr),\n",
    "        \"telemetry\": telemetry_data.get(rr),\n",
    "        \"radiation\": radiation_data.get(rr),\n",
    "    }\n",
    "    for rr in S.missions\n",
    "}\n"
   ]
  },
  {
   "cell_type": "markdown",
   "id": "993c9ed4",
   "metadata": {},
   "source": [
    "### Section 3: Data Preprocessing\n",
    "#### Purpose\n",
    "Create clean, aligned, and feature-enriched time series at one-minute resolution for telemetry and radiation streams across missions.\n",
    "#### What is implemented\n",
    "1. One-minute resampling with conservative interpolation of short gaps.\n",
    "2. Rolling mean and standard deviation features at 5, 30, and 180 minutes.\n",
    "3. Orbital day or night proxy using CO₂ distributions where light data is absent.\n",
    "4. Approximate crew awake flags using UTC windowing.\n",
    "5. Z-score normalization fields for statistical detectors.\n",
    "6. Export of preprocessed tables for downstream modules.\n",
    "#### New since AWG\n",
    "- Designed to support cross-mission parity to enable fair forecasting and anomaly comparisons.\n",
    "- Roadmap to add event markers such as docking and payload operations.\n",
    "#### To-Dos\n",
    "- Replace orbital proxy with explicit lighting if available from EDA.\n",
    "- Persist a unified time index per mission to simplify joins with omics and events.\n",
    "- Add simple quality flags per minute such as original, interpolated, or missing."
   ]
  },
  {
   "cell_type": "code",
   "execution_count": null,
   "id": "40d0c733-3fb3-4448-8d5f-3a13243a588b",
   "metadata": {},
   "outputs": [],
   "source": [
    "# ==== Section 3: Data Preprocessing ====\n",
    "\n",
    "def minute_index(df: pd.DataFrame, time_col: str) -> pd.DatetimeIndex:\n",
    "    idx = pd.to_datetime(df[time_col], errors=\"coerce\", utc=True).dropna()\n",
    "    return pd.date_range(idx.min().floor(\"T\"), idx.max().ceil(\"T\"), freq=S.sampling)\n",
    "\n",
    "def build_quality_flags(original: pd.Series, resampled: pd.Series, interp: pd.Series) -> pd.Series:\n",
    "    # original points that landed exactly on the minute bins\n",
    "    flag = pd.Series(index=resampled.index, data=\"missing\", dtype=\"object\")\n",
    "    # mark where we have a value after resample before interpolate\n",
    "    flag.loc[resampled.index[resampled.notna()]] = \"orig\"\n",
    "    # after interpolation, any previously missing-but-now-present becomes 'interp'\n",
    "    new_filled = interp.notna() & resampled.isna()\n",
    "    flag.loc[new_filled.index[new_filled]] = \"interp\"\n",
    "    return flag\n",
    "\n",
    "cleaned_telemetry, cleaned_radiation = {}, {}\n",
    "\n",
    "for rr in availability_df.query(\"`Telemetry Available` and `Radiation Available`\")[\"RR_Mission\"]:\n",
    "    tel = rr_data[rr][\"telemetry\"].copy()\n",
    "    rad = rr_data[rr][\"radiation\"].copy()\n",
    "\n",
    "    # --- TELEMETRY ---\n",
    "    require_cols(tel, [\"Controller_Time_GMT\"], f\"{rr} telemetry\")\n",
    "    tel = tel.set_index(pd.to_datetime(tel[\"Controller_Time_GMT\"], utc=True)).sort_index()\n",
    "    # keep numeric cols only\n",
    "    tel_num = tel.select_dtypes(include=[np.number])\n",
    "\n",
    "    # resample\n",
    "    tel_res = tel_num.resample(S.sampling).mean()\n",
    "    tel_pre = tel_res.copy()\n",
    "    # interpolate short gaps only (<=5 minutes)\n",
    "    tel_int = tel_res.interpolate(limit=5)\n",
    "\n",
    "    # rolling features\n",
    "    wins = [5, 30, 180]\n",
    "    for col in tel_num.columns:\n",
    "        for w in wins:\n",
    "            tel_int[f\"{col}_mean_{w}min\"] = tel_int[col].rolling(w, min_periods=1).mean()\n",
    "            tel_int[f\"{col}_std_{w}min\"]  = tel_int[col].rolling(w, min_periods=1).std()\n",
    "\n",
    "    # day/night proxy using CO2 (keep as you had)\n",
    "    if \"CO2_ppm_ISS\" in tel_int.columns:\n",
    "        thr = tel_int[\"CO2_ppm_ISS\"].median()\n",
    "        tel_int[\"Orbital_Day\"] = (tel_int[\"CO2_ppm_ISS\"] > thr).astype(int)\n",
    "\n",
    "    # crew awake heuristic (UTC 06–22)\n",
    "    tel_int[\"Hour\"] = tel_int.index.hour\n",
    "    tel_int[\"Crew_Awake\"] = ((tel_int[\"Hour\"] >= 6) & (tel_int[\"Hour\"] < 22)).astype(int)\n",
    "    tel_int.drop(columns=\"Hour\", inplace=True)\n",
    "\n",
    "    # z-scores for native telemetry columns\n",
    "    for col in tel_num.columns:\n",
    "        std = tel_int[col].std()\n",
    "        if pd.notna(std) and std > 0:\n",
    "            tel_int[f\"{col}_zscore\"] = (tel_int[col] - tel_int[col].mean()) / std\n",
    "\n",
    "    # quality flags per column (orig/interp/missing)\n",
    "    for col in tel_num.columns:\n",
    "        flags = build_quality_flags(\n",
    "            original=tel_num[col],\n",
    "            resampled=tel_pre[col],\n",
    "            interp=tel_int[col]\n",
    "        )\n",
    "        tel_int[f\"{col}_qflag\"] = flags.values\n",
    "\n",
    "    cleaned_telemetry[rr] = tel_int\n",
    "    tel_out = S.preprocessed_dir / f\"{rr}_cleaned_telemetry.csv\"\n",
    "    tel_int.to_csv(tel_out)\n",
    "    print(f\"[✓] Telemetry preprocessed → {tel_out}\")\n",
    "\n",
    "    # --- RADIATION ---\n",
    "    require_cols(rad, [\"Date\"], f\"{rr} radiation\")\n",
    "    rad = rad.set_index(pd.to_datetime(rad[\"Date\"], utc=True)).sort_index()\n",
    "    rad_num = rad.select_dtypes(include=[np.number])\n",
    "\n",
    "    rad_res = rad_num.resample(S.sampling).ffill()   # radiation usually daily/periodic, forward fill ok\n",
    "    rad_pre = rad_res.copy()\n",
    "    rad_int = rad_res.interpolate(limit=5)\n",
    "\n",
    "    for col in rad_num.columns:\n",
    "        for w in wins:\n",
    "            rad_int[f\"{col}_mean_{w}min\"] = rad_int[col].rolling(w, min_periods=1).mean()\n",
    "            rad_int[f\"{col}_std_{w}min\"]  = rad_int[col].rolling(w, min_periods=1).std()\n",
    "\n",
    "    # z-scores\n",
    "    for col in rad_num.columns:\n",
    "        std = rad_int[col].std()\n",
    "        if pd.notna(std) and std > 0:\n",
    "            rad_int[f\"{col}_zscore\"] = (rad_int[col] - rad_int[col].mean()) / std\n",
    "\n",
    "    # quality flags\n",
    "    for col in rad_num.columns:\n",
    "        flags = build_quality_flags(\n",
    "            original=rad_num[col],\n",
    "            resampled=rad_pre[col],\n",
    "            interp=rad_int[col]\n",
    "        )\n",
    "        rad_int[f\"{col}_qflag\"] = flags.values\n",
    "\n",
    "    cleaned_radiation[rr] = rad_int\n",
    "    rad_out = S.preprocessed_dir / f\"{rr}_cleaned_radiation.csv\"\n",
    "    rad_int.to_csv(rad_out)\n",
    "    print(f\"[✓] Radiation preprocessed → {rad_out}\")\n",
    "\n",
    "# Handy alias for later sections (keeps your original names)\n",
    "preprocessed_telemetry = cleaned_telemetry\n"
   ]
  },
  {
   "cell_type": "code",
   "execution_count": null,
   "id": "9ed7b990",
   "metadata": {},
   "outputs": [],
   "source": [
    "print(\"Telemetry files:\", len(list(S.preprocessed_dir.glob(\"*_cleaned_telemetry.csv\"))))\n",
    "print(\"Radiation files:\", len(list(S.preprocessed_dir.glob(\"*_cleaned_radiation.csv\"))))\n"
   ]
  },
  {
   "cell_type": "markdown",
   "id": "ea9fa0d3",
   "metadata": {},
   "source": [
    "### Section 4: Pattern Extraction\n",
    "#### Purpose\n",
    "Characterize seasonal and frequency structure to establish baseline rhythms and reveal mission-specific signatures.\n",
    "\n",
    "#### What is implemented\n",
    "- STL decomposition on telemetry and radiation with figure exports.\n",
    "- FFT spectra with safeguards for flat or short signals.\n",
    "- Diagnostics that log ranges, variance, and sampling integrity.\n",
    "\n",
    "#### New since AWG\n",
    "- Plan to compare STL seasonality with SARIMAX seasonal terms to validate decomposition consistency.\n",
    "- Prepare cross-mission summary tables of dominant frequencies and seasonal amplitudes.\n",
    "\n",
    "#### To-Dos\n",
    "- Add an automated report that ranks variables by seasonal strength per mission.\n",
    "- Store STL seasonal indices for reuse by forecasting baselines.\n",
    "- Add Welch spectra as a robustness check for FFT."
   ]
  },
  {
   "cell_type": "code",
   "execution_count": null,
   "id": "50a394bb-729a-4e15-aa6c-5eb052139675",
   "metadata": {},
   "outputs": [],
   "source": [
    "# Section 4: Pattern Extraction\n",
    "\n",
    "# Columns to analyze\n",
    "radiation_cols = ['GCR_Dose_mGy_d', 'SAA_Dose_mGy_d', 'Total_Dose_mGy_d', 'Accumulated_Dose_mGy_d']\n",
    "signal_cols = ['Temp_degC_ISS', 'RH_percent_ISS', 'CO2_ppm_ISS']\n",
    "\n",
    "# Output folders\n",
    "os.makedirs('pattern_analysis_plots', exist_ok=True)\n",
    "os.makedirs('pattern_analysis_plots/radiation', exist_ok=True)\n",
    "\n",
    "# STL settings\n",
    "stl_period = 1440  # daily pattern\n",
    "min_required_points = stl_period * 2\n",
    "\n",
    "# Diagnostic logger\n",
    "def log_diagnostics(col, rr, ts):\n",
    "    tqdm.write(f\"\\n--- Processing {col} for {rr} ---\")\n",
    "    tqdm.write(\"[Diagnostics]\")\n",
    "    tqdm.write(f\"Total data points: {len(ts)}\")\n",
    "    tqdm.write(f\"Date range: {ts.index.min()} to {ts.index.max()}\")\n",
    "    tqdm.write(f\"Missing values after interpolate: {ts[col].isnull().sum()}\")\n",
    "    tqdm.write(\"Descriptive statistics:\")\n",
    "    tqdm.write(str(ts[col].describe()))\n",
    "    tqdm.write(f\"Standard deviation: {ts[col].std()}\")\n",
    "    tqdm.write(\"First few values:\")\n",
    "    tqdm.write(str(ts[col].head()))\n",
    "\n",
    "# Safe FFT plotting function\n",
    "def safe_fft(ts_values, col, rr, out_path):\n",
    "    y = ts_values - np.mean(ts_values)\n",
    "    if np.std(y) < 1e-6:\n",
    "        tqdm.write(f\"[SKIP FFT] {col} in {rr} is too flat for FFT.\")\n",
    "        return\n",
    "    N = len(y)\n",
    "    T = 60.0  # 1-min interval\n",
    "    yf = fft(y)\n",
    "    xf = fftfreq(N, T)[:N // 2]\n",
    "    plt.figure(figsize=(12, 5))\n",
    "    plt.plot(xf, 2.0 / N * np.abs(yf[0:N // 2]), color='black')\n",
    "    plt.title(f'{col} Frequency Spectrum ({rr})')\n",
    "    plt.xlabel('Frequency (Hz)')\n",
    "    plt.ylabel('Amplitude')\n",
    "    plt.tight_layout()\n",
    "    plt.savefig(out_path)\n",
    "    plt.close()\n",
    "\n",
    "# Begin loop\n",
    "for rr in tqdm(complete_missions, desc='Missions'):\n",
    "    tqdm.write(f\"\\n=== Pattern Analysis for {rr} ===\")\n",
    "\n",
    "    # --- TELEMETRY ---\n",
    "    df_tel = preprocessed_telemetry.get(rr)\n",
    "    if df_tel is not None:\n",
    "        for col in tqdm(signal_cols, desc=f'{rr} Telemetry', leave=False):\n",
    "            if col not in df_tel.columns:\n",
    "                continue\n",
    "            try:\n",
    "                ts = df_tel[[col]].dropna()\n",
    "                ts = ts.resample('1min').mean().interpolate(limit=5)\n",
    "\n",
    "                # Drop non-finite\n",
    "                ts = ts[np.isfinite(ts[col])]\n",
    "                ts = ts.dropna()\n",
    "                std_dev = ts[col].std()\n",
    "\n",
    "                if len(ts) < min_required_points or std_dev < 1e-6:\n",
    "                    tqdm.write(f\"[SKIP] {col} in {rr}: not enough valid data or too flat (std={std_dev:.6f})\")\n",
    "                    continue\n",
    "\n",
    "                log_diagnostics(col, rr, ts)\n",
    "\n",
    "                # Raw Plot\n",
    "                plt.figure(figsize=(12, 4))\n",
    "                plt.plot(ts.index, ts[col], color='black')\n",
    "                plt.title(f'{col} Raw Signal Plot ({rr})')\n",
    "                plt.xlabel('Time')\n",
    "                plt.ylabel(col)\n",
    "                plt.tight_layout()\n",
    "                plt.savefig(f'pattern_analysis_plots/{col}_{rr}_Raw.png')\n",
    "                plt.close()\n",
    "\n",
    "                # STL\n",
    "                try:\n",
    "                    stl = STL(ts[col], period=stl_period, robust=True)\n",
    "                    result = stl.fit()\n",
    "                    fig, axes = plt.subplots(4, 1, figsize=(14, 10), sharex=True)\n",
    "                    axes[0].plot(ts.index, ts[col], color='black'); axes[0].set_title(f'{col} - Original ({rr})')\n",
    "                    axes[1].plot(result.trend, color='blue'); axes[1].set_title('Trend')\n",
    "                    axes[2].plot(result.seasonal, color='green'); axes[2].set_title('Seasonal')\n",
    "                    axes[3].plot(result.resid, color='red'); axes[3].set_title('Residual')\n",
    "                    plt.tight_layout()\n",
    "                    plt.savefig(f'pattern_analysis_plots/{col}_{rr}_STL_decomposition.png')\n",
    "                    plt.close()\n",
    "                except Exception as e:\n",
    "                    tqdm.write(f\"[ERROR] STL failed for {col} in {rr}: {e}\")\n",
    "                    continue\n",
    "\n",
    "                # FFT\n",
    "                safe_fft(ts[col].values, col, rr, f'pattern_analysis_plots/{col}_{rr}_FFT.png')\n",
    "                tqdm.write(f\"[DONE] {col} for {rr}\")\n",
    "            except Exception as e:\n",
    "                tqdm.write(f\"[ERROR] {col} in {rr}: {e}\")\n",
    "\n",
    "    # --- RADIATION ---\n",
    "    df_rad = cleaned_radiation.get(rr)\n",
    "    if df_rad is not None:\n",
    "        for col in tqdm(radiation_cols, desc=f'{rr} Radiation', leave=False):\n",
    "            if col not in df_rad.columns:\n",
    "                continue\n",
    "            try:\n",
    "                ts = df_rad[[col]].dropna()\n",
    "                ts = ts.resample('1min').interpolate(method='linear', limit=5)\n",
    "\n",
    "                ts = ts[np.isfinite(ts[col])]\n",
    "                ts = ts.dropna()\n",
    "                std_dev = ts[col].std()\n",
    "\n",
    "                if len(ts) < min_required_points or std_dev < 1e-6:\n",
    "                    tqdm.write(f\"[SKIP] {col} in {rr}: not enough valid data or too flat (std={std_dev:.6f})\")\n",
    "                    continue\n",
    "\n",
    "                log_diagnostics(col, rr, ts)\n",
    "\n",
    "                # Raw\n",
    "                plt.figure(figsize=(12, 4))\n",
    "                plt.plot(ts.index, ts[col], color='black')\n",
    "                plt.title(f'{col} Raw Signal Plot ({rr})')\n",
    "                plt.xlabel('Time')\n",
    "                plt.ylabel(col)\n",
    "                plt.tight_layout()\n",
    "                plt.savefig(f'pattern_analysis_plots/radiation/{col}_{rr}_Raw.png')\n",
    "                plt.close()\n",
    "\n",
    "                # STL\n",
    "                try:\n",
    "                    stl = STL(ts[col], period=stl_period, robust=True)\n",
    "                    result = stl.fit()\n",
    "                    fig, axes = plt.subplots(4, 1, figsize=(14, 10), sharex=True)\n",
    "                    axes[0].plot(ts.index, ts[col], color='black'); axes[0].set_title(f'{col} - Original ({rr})')\n",
    "                    axes[1].plot(result.trend, color='blue'); axes[1].set_title('Trend')\n",
    "                    axes[2].plot(result.seasonal, color='green'); axes[2].set_title('Seasonal')\n",
    "                    axes[3].plot(result.resid, color='red'); axes[3].set_title('Residual')\n",
    "                    plt.tight_layout()\n",
    "                    plt.savefig(f'pattern_analysis_plots/radiation/{col}_{rr}_STL_decomposition.png')\n",
    "                    plt.close()\n",
    "                except Exception as e:\n",
    "                    tqdm.write(f\"[ERROR] STL failed for {col} in {rr}: {e}\")\n",
    "                    continue\n",
    "\n",
    "                # FFT\n",
    "                safe_fft(ts[col].values, col, rr, f'pattern_analysis_plots/radiation/{col}_{rr}_FFT.png')\n",
    "                tqdm.write(f\"[DONE] {col} for {rr}\")\n",
    "            except Exception as e:\n",
    "                tqdm.write(f\"[ERROR] {col} in {rr}: {e}\")"
   ]
  },
  {
   "cell_type": "markdown",
   "id": "035c99a7",
   "metadata": {},
   "source": [
    "### Section 5: Relationship Mapping\n",
    "#### Purpose\n",
    "Quantify associations and temporal dependencies across telemetry and radiation variables, and prepare hooks for biological and behavioral linkage.\n",
    "#### What is implemented\n",
    "1. Pearson and Spearman correlation matrices with heatmap exports.\n",
    "2. Granger causality tests at short lags to detect lead-lag structure.\n",
    "3. Network graphs of strong correlations to visualize system coupling.\n",
    "#### New since AWG\n",
    "- Plan to extend analyses to additional tissues such as anterior tibialis and to behavioral or phenotypic signals when available.\n",
    "- Roadmap for formal interpretability such as SHAP once multivariate models are introduced.\n",
    "#### To-Dos\n",
    "- Add partial correlations controlling for time of day and orbital phase.\n",
    "- Evaluate transfer entropy or directed information as a non-linear alternative to Granger tests.\n",
    "- Prepare tidy outputs that the dashboard can filter by mission, variable, and method."
   ]
  },
  {
   "cell_type": "code",
   "execution_count": null,
   "id": "1843ef6b-91b3-44fe-9998-41f927ceb7f8",
   "metadata": {},
   "outputs": [],
   "source": [
    "# Section 5: Relationship Mapping\n",
    "\n",
    "from scipy.stats import spearmanr\n",
    "from statsmodels.tsa.stattools import grangercausalitytests\n",
    "import seaborn as sns\n",
    "import networkx as nx\n",
    "\n",
    "# Directory to save plots\n",
    "os.makedirs('relationship_mapping_plots', exist_ok=True)\n",
    "\n",
    "# Columns to include for correlation and causality tests\n",
    "telemetry_metrics = ['Temp_degC_ISS', 'RH_percent_ISS', 'CO2_ppm_ISS']\n",
    "radiation_metrics = ['GCR_Dose_mGy_d', 'SAA_Dose_mGy_d', 'Total_Dose_mGy_d', 'Accumulated_Dose_mGy_d']\n",
    "\n",
    "for rr in complete_missions:\n",
    "    print(f\"\\n--- Analyzing {rr} ---\")\n",
    "\n",
    "    df_tel = preprocessed_telemetry.get(rr)\n",
    "    df_rad = cleaned_radiation.get(rr)\n",
    "\n",
    "    if df_tel is None or df_rad is None:\n",
    "        print(f\"[SKIP] Missing data for {rr}\")\n",
    "        continue\n",
    "\n",
    "    # Merge telemetry and radiation signals (1-minute index)\n",
    "    merged = df_tel.join(df_rad, how='inner')\n",
    "    merged = merged[telemetry_metrics + radiation_metrics].dropna()\n",
    "\n",
    "    if len(merged) < 2000:\n",
    "        print(f\"[SKIP] Insufficient data points for correlation/causality analysis in {rr}\")\n",
    "        continue\n",
    "\n",
    "    # Compute Pearson and Spearman correlation matrices\n",
    "    pearson_corr = merged.corr(method='pearson')\n",
    "    spearman_corr, _ = spearmanr(merged)\n",
    "\n",
    "    spearman_corr_df = pd.DataFrame(spearman_corr, index=merged.columns, columns=merged.columns)\n",
    "\n",
    "    # Save correlation heatmaps\n",
    "    plt.figure(figsize=(10, 8))\n",
    "    sns.heatmap(pearson_corr, annot=True, cmap='coolwarm', fmt=\".2f\")\n",
    "    plt.title(f'Pearson Correlation Matrix - {rr}')\n",
    "    plt.tight_layout()\n",
    "    plt.savefig(f'relationship_mapping_plots/{rr}_pearson_corr.png')\n",
    "    plt.close()\n",
    "\n",
    "    plt.figure(figsize=(10, 8))\n",
    "    sns.heatmap(spearman_corr_df, annot=True, cmap='coolwarm', fmt=\".2f\")\n",
    "    plt.title(f'Spearman Correlation Matrix - {rr}')\n",
    "    plt.tight_layout()\n",
    "    plt.savefig(f'relationship_mapping_plots/{rr}_spearman_corr.png')\n",
    "    plt.close()\n",
    "\n",
    "    # Granger Causality: test telemetry → radiation (lag = 5 min)\n",
    "    print(f\"\\n[Granger Causality Tests for {rr}]\")\n",
    "    for rad_col in radiation_metrics:\n",
    "        for tel_col in telemetry_metrics:\n",
    "            try:\n",
    "                data = merged[[rad_col, tel_col]].dropna()\n",
    "                if data.shape[0] > 200:\n",
    "                    result = grangercausalitytests(data[[rad_col, tel_col]], maxlag=5, verbose=False)\n",
    "                    p_values = [round(result[i + 1][0]['ssr_ftest'][1], 4) for i in range(5)]\n",
    "                    print(f\"{tel_col} → {rad_col}: min p-value = {min(p_values)}\")\n",
    "            except Exception as e:\n",
    "                print(f\"Failed Granger test {tel_col} → {rad_col}: {e}\")\n",
    "\n",
    "    # Build and save network graph of strong Pearson correlations\n",
    "    try:\n",
    "        G = nx.Graph()\n",
    "        threshold = 0.6\n",
    "        for i in range(len(pearson_corr.columns)):\n",
    "            for j in range(i + 1, len(pearson_corr.columns)):\n",
    "                var1 = pearson_corr.columns[i]\n",
    "                var2 = pearson_corr.columns[j]\n",
    "                weight = pearson_corr.iloc[i, j]\n",
    "                if abs(weight) > threshold:\n",
    "                    G.add_edge(var1, var2, weight=round(weight, 2))\n",
    "\n",
    "        if len(G.edges) > 0:\n",
    "            plt.figure(figsize=(8, 6))\n",
    "            pos = nx.spring_layout(G, seed=42)\n",
    "            nx.draw(G, pos, with_labels=True, node_color='lightblue', edge_color='gray', node_size=2000, font_size=10)\n",
    "            edge_labels = nx.get_edge_attributes(G, 'weight')\n",
    "            nx.draw_networkx_edge_labels(G, pos, edge_labels=edge_labels)\n",
    "            plt.title(f'Variable Correlation Network - {rr}')\n",
    "            plt.tight_layout()\n",
    "            plt.savefig(f'relationship_mapping_plots/{rr}_network_graph.png')\n",
    "            plt.close()\n",
    "    except Exception as e:\n",
    "        print(f\"Failed to create network graph for {rr}: {e}\")\n"
   ]
  },
  {
   "cell_type": "markdown",
   "id": "f1119f20",
   "metadata": {},
   "source": [
    "### Section 6: Anomaly Detection and Forecasting\n",
    "#### Purpose\n",
    "Detect environmental deviations and produce short-term forecasts that are operationally useful for life-support planning.\n",
    "#### What is implemented\n",
    "1. Statistical detectors using Z-score and EWMA with exportable plots.\n",
    "2. LSTM autoencoder reconstruction error for subtle anomalies.\n",
    "3. Univariate LSTM forecasting with rolling origin validation.\n",
    "4. Metrics including RMSE and MAE and summary CSV exports.\n",
    "\n",
    "#### New since AWG\n",
    "- Benchmark Seasonal ARIMA and VAR against LSTM forecasts starting with RR-1 and expanding to other missions.\n",
    "- Expand the LSTM and anomaly suite to RR-3, RR-6, RR-9, RR-12, and RR-19 using the same preprocessing and evaluation.\n",
    "- Prepare a path to multivariate forecasting such as multivariate LSTM or attention models where feasible.\n",
    "\n",
    "#### To-Dos\n",
    "- Implement SARIMAX grid search for seasonal orders with AIC selection and save diagnostics.\n",
    "- Add residual diagnostics and Ljung-Box tests for each baseline model.\n",
    "- Introduce conformal prediction intervals or quantile regression to provide uncertainty bands.\n",
    "- Create a single scoreboard table per mission that ranks models by RMSE and MAE with ties broken by simplicity."
   ]
  },
  {
   "cell_type": "code",
   "execution_count": null,
   "id": "42b98db6-175c-4ae1-b091-38e95f9b9d33",
   "metadata": {
    "scrolled": true
   },
   "outputs": [],
   "source": [
    "# Section 6: Anomaly Detection and Forecasting (RR-1 only, telemetry + radiation)\n",
    "\n",
    "import os\n",
    "import time\n",
    "import numpy as np\n",
    "import pandas as pd\n",
    "import matplotlib.pyplot as plt\n",
    "from tqdm.notebook import tqdm\n",
    "from sklearn.preprocessing import MinMaxScaler\n",
    "from sklearn.metrics import mean_squared_error, mean_absolute_error\n",
    "\n",
    "import tensorflow as tf\n",
    "from tensorflow.keras.models import Model\n",
    "from tensorflow.keras.layers import Input, LSTM, RepeatVector, TimeDistributed, Dense\n",
    "from tensorflow.keras.callbacks import EarlyStopping\n",
    "\n",
    "# Optimization\n",
    "os.environ[\"OMP_NUM_THREADS\"] = \"2\"\n",
    "os.environ[\"TF_CPP_MIN_LOG_LEVEL\"] = \"2\"\n",
    "tf.config.threading.set_intra_op_parallelism_threads(2)\n",
    "tf.config.threading.set_inter_op_parallelism_threads(2)\n",
    "\n",
    "# Settings\n",
    "sequence_length = 45\n",
    "epochs = 2\n",
    "batch_size = 32\n",
    "threshold_z = 3\n",
    "ewma_span = 60\n",
    "validation_fraction = 0.2\n",
    "\n",
    "telemetry_cols = ['Temp_degC_ISS', 'RH_percent_ISS', 'CO2_ppm_ISS']\n",
    "radiation_cols = ['GCR_Dose_mGy_d', 'SAA_Dose_mGy_d', 'Total_Dose_mGy_d', 'Accumulated_Dose_mGy_d']\n",
    "early_stop = EarlyStopping(monitor='val_loss', patience=1, restore_best_weights=True)\n",
    "\n",
    "output_root = 'anomaly_forecast_outputs'\n",
    "os.makedirs(output_root, exist_ok=True)\n",
    "\n",
    "def create_sequences(data, seq_length):\n",
    "    xs, ys = [], []\n",
    "    for i in range(len(data) - seq_length):\n",
    "        x = data[i:(i + seq_length)]\n",
    "        y = data[i + seq_length]\n",
    "        xs.append(x)\n",
    "        ys.append(y)\n",
    "    return np.array(xs), np.array(ys)\n",
    "\n",
    "def run_anomaly_forecast(df, signal_type, rr, col, metrics_summary):\n",
    "    df_col = df[[col]].dropna().copy()\n",
    "    df_col.columns = ['value']\n",
    "    if len(df_col) < 2000 or df_col['value'].std() < 1e-5:\n",
    "        print(f\"[SKIP] {col} in {rr}: insufficient data or low variance\")\n",
    "        return\n",
    "\n",
    "    df_col = df_col.resample('2min').mean().dropna()\n",
    "    if len(df_col) < 1000:\n",
    "        print(f\"[SKIP] {col} in {rr}: too short after downsampling\")\n",
    "        return\n",
    "\n",
    "    print(f\"\\n--- Processing {col} in {rr} ({len(df_col)} pts) ---\")\n",
    "    col_start = time.time()\n",
    "    col_dir = os.path.join(output_root, rr, f'{signal_type}_{col}')\n",
    "    os.makedirs(col_dir, exist_ok=True)\n",
    "\n",
    "    try:\n",
    "        ts = df_col.copy()\n",
    "        ts['zscore'] = (ts['value'] - ts['value'].mean()) / ts['value'].std()\n",
    "        ts['z_anomaly'] = ts['zscore'].abs() > threshold_z\n",
    "        ts['ewma'] = ts['value'].ewm(span=ewma_span).mean()\n",
    "        ts['ewma_resid'] = ts['value'] - ts['ewma']\n",
    "        ts['ewma_anomaly'] = ts['ewma_resid'].abs() > (2 * ts['ewma_resid'].std())\n",
    "\n",
    "        # Z-score anomalies\n",
    "        plt.figure(figsize=(12, 4))\n",
    "        plt.plot(ts.index, ts['value'], label='Value', color='black')\n",
    "        plt.scatter(ts[ts['z_anomaly']].index, ts[ts['z_anomaly']]['value'], color='red', label='Z Anomaly')\n",
    "        plt.title(f'{col} Z-Score Anomalies ({rr})')\n",
    "        plt.legend(); plt.tight_layout()\n",
    "        plt.savefig(os.path.join(col_dir, 'zscore_anomalies.png'))\n",
    "        plt.close()\n",
    "\n",
    "        # EWMA anomalies\n",
    "        plt.figure(figsize=(12, 4))\n",
    "        plt.plot(ts.index, ts['value'], color='black', label='Value')\n",
    "        plt.plot(ts.index, ts['ewma'], color='blue', label='EWMA')\n",
    "        plt.scatter(ts[ts['ewma_anomaly']].index, ts[ts['ewma_anomaly']]['value'], color='orange', label='EWMA Anomaly')\n",
    "        plt.title(f'{col} EWMA Anomalies ({rr})')\n",
    "        plt.legend(); plt.tight_layout()\n",
    "        plt.savefig(os.path.join(col_dir, 'ewma_anomalies.png'))\n",
    "        plt.close()\n",
    "\n",
    "        # LSTM Autoencoder\n",
    "        scaler = MinMaxScaler()\n",
    "        scaled = scaler.fit_transform(ts[['value']].values).astype(np.float32)\n",
    "        X_seq, _ = create_sequences(scaled, sequence_length)\n",
    "        if len(X_seq) < 100:\n",
    "            print(f\"[SKIP] {col} in {rr}: insufficient sequences for LSTM\")\n",
    "            return\n",
    "\n",
    "        split = int(len(X_seq) * (1 - validation_fraction))\n",
    "        X_train = X_seq[:split]\n",
    "        X_test = X_seq[split:]\n",
    "\n",
    "        input_dim = X_train.shape[2]\n",
    "        timesteps = X_train.shape[1]\n",
    "\n",
    "        print(\"  → Training Autoencoder...\")\n",
    "        ae_start = time.time()\n",
    "        inputs = Input(shape=(timesteps, input_dim))\n",
    "        encoded = LSTM(16, activation='relu', return_sequences=False)(inputs)\n",
    "        decoded = RepeatVector(timesteps)(encoded)\n",
    "        decoded = LSTM(16, activation='relu', return_sequences=True)(decoded)\n",
    "        outputs = TimeDistributed(Dense(input_dim))(decoded)\n",
    "\n",
    "        model = Model(inputs, outputs)\n",
    "        model.compile(optimizer='adam', loss='mse')\n",
    "        model.fit(X_train, X_train, epochs=epochs, batch_size=batch_size,\n",
    "                  validation_split=0.1, shuffle=False, callbacks=[early_stop], verbose=1)\n",
    "        ae_end = time.time()\n",
    "\n",
    "        X_test_pred = model.predict(X_test, verbose=0)\n",
    "        mse = np.mean(np.square(X_test - X_test_pred), axis=(1, 2))\n",
    "        threshold = np.percentile(mse, 95)\n",
    "\n",
    "        plt.figure(figsize=(12, 4))\n",
    "        plt.plot(mse, color='black', label='Reconstruction Error')\n",
    "        plt.axhline(y=threshold, color='red', linestyle='--', label='Threshold')\n",
    "        plt.title(f'{col} LSTM Reconstruction Error ({rr})')\n",
    "        plt.legend(); plt.tight_layout()\n",
    "        plt.savefig(os.path.join(col_dir, 'lstm_reconstruction_error.png'))\n",
    "        plt.close()\n",
    "\n",
    "        # Forecasting\n",
    "        print(\"  → Training Forecaster...\")\n",
    "        X_forecast, y_forecast = create_sequences(scaled, sequence_length)\n",
    "        split_f = int(len(X_forecast) * (1 - validation_fraction))\n",
    "        X_train_f = X_forecast[:split_f]\n",
    "        y_train_f = y_forecast[:split_f]\n",
    "        X_test_f = X_forecast[split_f:]\n",
    "        y_test_f = y_forecast[split_f:]\n",
    "\n",
    "        model_forecast = tf.keras.Sequential([\n",
    "            LSTM(16, activation='relu', input_shape=(sequence_length, 1)),\n",
    "            Dense(1)\n",
    "        ])\n",
    "        model_forecast.compile(optimizer='adam', loss='mse')\n",
    "        model_forecast.fit(X_train_f, y_train_f, epochs=epochs, batch_size=batch_size,\n",
    "                           shuffle=False, callbacks=[early_stop], verbose=1)\n",
    "\n",
    "        y_pred = model_forecast.predict(X_test_f)\n",
    "        y_test_inv = scaler.inverse_transform(y_test_f.reshape(-1, 1))\n",
    "        y_pred_inv = scaler.inverse_transform(y_pred)\n",
    "\n",
    "        rmse = np.sqrt(mean_squared_error(y_test_inv, y_pred_inv))\n",
    "        mae = mean_absolute_error(y_test_inv, y_pred_inv)\n",
    "\n",
    "        # Forecast plot\n",
    "        plt.figure(figsize=(12, 4))\n",
    "        plt.plot(y_test_inv, label='Actual', color='black')\n",
    "        plt.plot(y_pred_inv, label='Forecast', color='green')\n",
    "        plt.title(f'{col} LSTM Forecast ({rr})\\nRMSE: {rmse:.2f}, MAE: {mae:.2f}')\n",
    "        plt.legend(); plt.tight_layout()\n",
    "        plt.savefig(os.path.join(col_dir, 'lstm_forecast.png'))\n",
    "        plt.close()\n",
    "\n",
    "        # Append metrics\n",
    "        metrics_summary.append({\n",
    "            'RR': rr,\n",
    "            'Type': signal_type,\n",
    "            'Variable': col,\n",
    "            'RMSE': rmse,\n",
    "            'MAE': mae,\n",
    "            'AE_Threshold': threshold,\n",
    "            'AE_MeanMSE': np.mean(mse),\n",
    "            'AE_Time': ae_end - ae_start\n",
    "        })\n",
    "\n",
    "        print(f\"[DONE] {col} in {rr} → RMSE: {rmse:.2f}, MAE: {mae:.2f}\")\n",
    "\n",
    "    except Exception as e:\n",
    "        print(f\"[ERROR] Failed for {col} in {rr}: {e}\")\n",
    "\n",
    "    print(f\"  → Total time for {col}: {time.time() - col_start:.1f} sec\")\n",
    "\n",
    "# Run for RR-1\n",
    "rr = 'RR-1'\n",
    "metrics_summary = []\n",
    "\n",
    "# Telemetry\n",
    "df_tel = preprocessed_telemetry.get(rr)\n",
    "if df_tel is not None:\n",
    "    for col in telemetry_cols:\n",
    "        if col in df_tel.columns:\n",
    "            run_anomaly_forecast(df_tel, 'telemetry', rr, col, metrics_summary)\n",
    "\n",
    "# Radiation\n",
    "df_rad = cleaned_radiation.get(rr)\n",
    "if df_rad is not None:\n",
    "    for col in radiation_cols:\n",
    "        if col in df_rad.columns:\n",
    "            run_anomaly_forecast(df_rad, 'radiation', rr, col, metrics_summary)\n",
    "\n",
    "# Save summary\n",
    "summary_df = pd.DataFrame(metrics_summary)\n",
    "summary_df.to_csv(os.path.join(output_root, f'{rr}_forecast_summary.csv'), index=False)\n",
    "print(f\"\\n[✓] Saved forecast summary for {rr} ({len(metrics_summary)} variables)\")\n"
   ]
  },
  {
   "cell_type": "markdown",
   "id": "89bc216c",
   "metadata": {},
   "source": [
    "### Section 7: Evaluation and Insights\n",
    "#### Purpose\n",
    "Aggregate results across missions, identify the most volatile variables, and link environmental anomalies to biological findings where timing allows.\n",
    "\n",
    "#### What is implemented\n",
    "1. Consolidation of forecast metrics into per-mission and all-mission summaries.\n",
    "2. Ranking of top forecastable variables and top anomaly intensities.\n",
    "3. RR-1 omics linkage including significant differential expression tables and PCA summaries.\n",
    "\n",
    "#### New since AWG\n",
    "- Compare missions that exhibit environmental anomalies against missions with relatively stable conditions to test biological contrasts suggested by the group.\n",
    "- Extend linkage to additional GeneLab datasets beyond GLDS-104.\n",
    "\n",
    "#### To-Dos\n",
    "- Add an anomaly calendar per mission with merged telemetry and radiation spike timestamps.\n",
    "- If event context is available, annotate anomaly calendars with docking or EVA intervals and compute overlap rates.\n",
    "- For omics, add pathway enrichment summaries and export top enriched terms per anomaly window.\n",
    "- Produce a concise narrative per mission that highlights the strongest patterns and any outliers."
   ]
  },
  {
   "cell_type": "code",
   "execution_count": null,
   "id": "c16f6596-eec4-442b-a907-be49f4421d3c",
   "metadata": {},
   "outputs": [],
   "source": [
    "# Section 7: Evaluation and Insights\n",
    "\n",
    "import os\n",
    "import pandas as pd\n",
    "import numpy as np\n",
    "import matplotlib.pyplot as plt\n",
    "import seaborn as sns\n",
    "\n",
    "summary_dir = 'anomaly_forecast_outputs'\n",
    "pattern_data_dir = 'pattern_extraction_data'\n",
    "\n",
    "# Omics (GLDS-104 for RR-1)\n",
    "deg_path = '/Users/kennethjenkins/Documents/Education/CU Boulder/Data Mining Specialization/Data Mining Projects/Project Checkpoint/Data Sources/Genelab Imics Datasets/RR-1/OSD-104/GLDS-104_rna_seq_differential_expression.csv'\n",
    "norm_counts_path = '/Users/kennethjenkins/Documents/Education/CU Boulder/Data Mining Specialization/Data Mining Projects/Project Checkpoint/Data Sources/Genelab Imics Datasets/RR-1/OSD-104/GLDS-104_rna_seq_Normalized_Counts.csv'\n",
    "pca_path = pca_path = '/Users/kennethjenkins/Documents/Education/CU Boulder/Data Mining Specialization/Data Mining Projects/Project Checkpoint/Data Sources/Genelab Imics Datasets/RR-1/OSD-104/GLDS-104_rna_seq_visualization_PCA_table.csv'\n",
    "\n",
    "\n",
    "# 7.1 Combine All Forecast Summaries\n",
    "all_summaries = []\n",
    "for rr in complete_missions:\n",
    "    summary_path = os.path.join(summary_dir, f'{rr}_forecast_summary.csv')\n",
    "    if os.path.exists(summary_path):\n",
    "        df = pd.read_csv(summary_path)\n",
    "        df['Mission'] = rr\n",
    "        all_summaries.append(df)\n",
    "\n",
    "combined_summary = pd.concat(all_summaries, ignore_index=True)\n",
    "combined_summary.to_csv(os.path.join(summary_dir, 'all_mission_summary.csv'), index=False)\n",
    "print(\"[✓] Combined anomaly forecast summaries across missions.\")\n",
    "\n",
    "# 7.2 Top Forecastable and Anomalous Variables\n",
    "top_forecast = combined_summary.sort_values('RMSE').groupby('Mission').head(3)\n",
    "top_anomalous = combined_summary.sort_values('AE_MeanMSE', ascending=False).groupby('Mission').head(3)\n",
    "\n",
    "print(\"\\nTop Forecasted Variables per Mission:\")\n",
    "print(top_forecast[['Mission', 'Variable', 'RMSE', 'MAE']])\n",
    "\n",
    "print(\"\\nTop Anomalous Variables per Mission:\")\n",
    "print(top_anomalous[['Mission', 'Variable', 'AE_MeanMSE', 'AE_Threshold']])\n",
    "\n",
    "# 7.3 Visualization: Anomaly Intensity\n",
    "plt.figure(figsize=(10, 6))\n",
    "sns.boxplot(x='Type', y='AE_MeanMSE', data=combined_summary)\n",
    "plt.title(\"Anomaly Intensity by Variable Type\")\n",
    "plt.tight_layout()\n",
    "plt.savefig(os.path.join(summary_dir, 'anomaly_boxplot_by_type.png'))\n",
    "plt.close()\n",
    "\n",
    "plt.figure(figsize=(12, 6))\n",
    "sns.barplot(data=combined_summary, x='Mission', y='AE_MeanMSE', hue='Type')\n",
    "plt.title(\"Mean Anomaly Score (AE) by Mission and Type\")\n",
    "plt.tight_layout()\n",
    "plt.savefig(os.path.join(summary_dir, 'anomaly_by_mission.png'))\n",
    "plt.close()\n",
    "\n",
    "# 7.4 Composite Anomaly Timeline for RR-1\n",
    "rr1_env_path = '/Users/kennethjenkins/CU Boulder/Past/pattern_extraction_data/RR-1_telemetry_processed.csv'\n",
    "rr1_rad_path = '/Users/kennethjenkins/CU Boulder/Past/pattern_extraction_data/RR-1_radiation_processed.csv'\n",
    "\n",
    "env_df = pd.read_csv(rr1_env_path, index_col=0, parse_dates=True)\n",
    "rad_df = pd.read_csv(rr1_rad_path, index_col=0, parse_dates=True)\n",
    "\n",
    "# Combine telemetry and radiation\n",
    "combined_rr1 = env_df.join(rad_df, how='outer')\n",
    "combined_rr1 = combined_rr1.sort_index().interpolate(limit=5)\n",
    "\n",
    "# Define key variables to track\n",
    "key_vars = [\n",
    "    'Temp_degC_ISS', 'RH_percent_ISS', 'CO2_ppm_ISS',\n",
    "    'GCR_Dose_mGy_d', 'SAA_Dose_mGy_d', 'Total_Dose_mGy_d', 'Accumulated_Dose_mGy_d'\n",
    "]\n",
    "\n",
    "# Detect anomaly times\n",
    "anomaly_times = set()\n",
    "for var in key_vars:\n",
    "    if var in combined_rr1.columns:\n",
    "        z = (combined_rr1[var] - combined_rr1[var].mean()) / combined_rr1[var].std()\n",
    "        spikes = z[np.abs(z) > 3].index\n",
    "        anomaly_times.update(spikes)\n",
    "\n",
    "print(f\"\\n[✓] Found {len(anomaly_times)} unique anomaly timestamps across all key signals.\")\n",
    "\n",
    "# Convert to sorted list\n",
    "anomaly_times = sorted(list(anomaly_times))\n",
    "\n",
    "# 7.5 Load Omics and Evaluate Top Genes\n",
    "deg_df = pd.read_csv(deg_path)\n",
    "\n",
    "# Clean column names\n",
    "deg_df.columns = deg_df.columns.str.strip().str.replace('\\u200b', '').str.replace('\\xa0', '')\n",
    "\n",
    "# Rename for easier access\n",
    "deg_df = deg_df.rename(columns={\n",
    "    'Adj.p.value_(Space Flight)v(Ground Control)': 'padj',\n",
    "    'Log2fc_(Space Flight)v(Ground Control)': 'log2FoldChange',\n",
    "    'SYMBOL': 'gene'\n",
    "})\n",
    "\n",
    "# Filter significant genes\n",
    "deg_filtered = deg_df[deg_df['padj'] < 0.05].sort_values(by='log2FoldChange', ascending=False)\n",
    "print(f\"[✓] Loaded {len(deg_df)} DEGs. {len(deg_filtered)} significant (padj < 0.05).\")\n",
    "\n",
    "# Top 5 upregulated and downregulated genes\n",
    "top_up = deg_filtered.head(5)\n",
    "top_down = deg_filtered.tail(5)\n",
    "\n",
    "print(\"\\nTop 5 Upregulated Genes:\")\n",
    "print(top_up[['gene', 'log2FoldChange', 'padj']])\n",
    "\n",
    "print(\"\\nTop 5 Downregulated Genes:\")\n",
    "print(top_down[['gene', 'log2FoldChange', 'padj']])\n",
    "\n",
    "\n",
    "# Load normalized expression data\n",
    "norm_df = pd.read_csv(norm_counts_path, index_col=0)\n",
    "top_var_genes = norm_df.var(axis=1).sort_values(ascending=False).head(5)\n",
    "\n",
    "print(\"\\nTop 5 Variable Genes Across Omics Samples:\")\n",
    "print(top_var_genes)\n",
    "\n",
    "# PCA metadata\n",
    "pca_df = pd.read_csv(pca_path)\n",
    "print(f\"[✓] Loaded PCA table with {pca_df.shape[0]} samples and {pca_df.shape[1]} components.\")\n",
    "\n",
    "# 7.6 Export All Outputs\n",
    "top_forecast.to_csv(os.path.join(summary_dir, 'top_forecasted_variables.csv'), index=False)\n",
    "top_anomalous.to_csv(os.path.join(summary_dir, 'top_anomalous_variables.csv'), index=False)\n",
    "top_up.to_csv(os.path.join(summary_dir, 'rr1_top_upregulated_genes.csv'), index=False)\n",
    "top_down.to_csv(os.path.join(summary_dir, 'rr1_top_downregulated_genes.csv'), index=False)\n",
    "top_var_genes.to_csv(os.path.join(summary_dir, 'rr1_top_variable_genes.csv'))\n",
    "pca_df.to_csv(os.path.join(summary_dir, 'rr1_pca_summary.csv'), index=False)\n",
    "\n",
    "# Save anomaly timeline\n",
    "anomaly_df = pd.DataFrame(anomaly_times, columns=['timestamp'])\n",
    "anomaly_df.to_csv(os.path.join(summary_dir, 'rr1_composite_anomaly_timestamps.csv'), index=False)\n",
    "\n",
    "print(\"\\nAll multi-signal anomalies and omics insights exported.\")\n"
   ]
  },
  {
   "cell_type": "markdown",
   "id": "9e758ad3",
   "metadata": {},
   "source": [
    "### Section 8: Prescriptive Insights\n",
    "#### Purpose\n",
    "Translate analytics into decision aids for habitat operations such as alert thresholds, scheduling guidance, and sampling triggers.\n",
    "#### What is implemented\n",
    "1. Preliminary thresholds for CO₂, RH, and temperature grounded in anomaly behavior and forecast accuracy.\n",
    "2. Radiation-aware scheduling guidance based on SAA variability and cumulative dose monitoring.\n",
    "3. Triggers for omics or physiological sampling aligned to anomaly criteria.\n",
    "4. Guidance for embedded forecasting and visualization for real-time use.\n",
    "#### New since AWG\n",
    "- Mark these prescriptions as preliminary and subject to revision after cross-mission Seasonal ARIMA benchmarking.\n",
    "- Add placeholders for LSDA physiological endpoints once access is available.\n",
    "#### To-Dos\n",
    "- Calibrate thresholds using ROC curves generated from retrospective anomaly labels once a small labeled set is created.\n",
    "- Encode recommendations into a JSON policy that the dashboard can read and display.\n",
    "- Add unit-tested utilities to compute rolling compliance against the policy per mission."
   ]
  },
  {
   "cell_type": "code",
   "execution_count": null,
   "id": "813d170e-c6e5-401e-abd4-e0f8ee315505",
   "metadata": {},
   "outputs": [],
   "source": [
    "import pandas as pd\n",
    "import os\n",
    "\n",
    "# Define base path\n",
    "base_path = \"/Users/kennethjenkins/CU Boulder/preprocessed_data\"\n",
    "\n",
    "# Define telemetry and radiation file paths\n",
    "telemetry_files = [\n",
    "    \"RR-1_cleaned_telemetry.csv\",\n",
    "    \"RR-3_cleaned_telemetry.csv\",\n",
    "    \"RR-6_cleaned_telemetry.csv\",\n",
    "    \"RR-9_cleaned_telemetry.csv\",\n",
    "    \"RR-12_cleaned_telemetry.csv\",\n",
    "    \"RR-19_cleaned_telemetry.csv\"\n",
    "]\n",
    "\n",
    "radiation_files = [\n",
    "    \"RR-1_cleaned_radiation.csv\",\n",
    "    \"RR-3_cleaned_radiation.csv\",\n",
    "    \"RR-6_cleaned_radiation.csv\",\n",
    "    \"RR-9_cleaned_radiation.csv\",\n",
    "    \"RR-12_cleaned_radiation.csv\",\n",
    "    \"RR-19_cleaned_radiation.csv\"\n",
    "]\n",
    "\n",
    "# Helper function to generate summary stats for each file\n",
    "def generate_summary(file_list, prefix):\n",
    "    summaries = []\n",
    "    for fname in file_list:\n",
    "        fpath = os.path.join(base_path, fname)\n",
    "        df = pd.read_csv(fpath)\n",
    "        desc = df.describe().T\n",
    "        desc[\"mission\"] = fname.split(\"_\")[0]\n",
    "        desc[\"variable\"] = desc.index\n",
    "        summaries.append(desc.reset_index(drop=True))\n",
    "    \n",
    "    full_summary = pd.concat(summaries, ignore_index=True)\n",
    "    return full_summary[[\"mission\", \"variable\", \"count\", \"mean\", \"std\", \"min\", \"25%\", \"50%\", \"75%\", \"max\"]]\n",
    "\n",
    "# Generate summaries\n",
    "telemetry_summary = generate_summary(telemetry_files, \"telemetry\")\n",
    "radiation_summary = generate_summary(radiation_files, \"radiation\")\n",
    "\n",
    "# Save to disk (optional)\n",
    "telemetry_summary.to_csv(os.path.join(base_path, \"telemetry_descriptive_summary.csv\"), index=False)\n",
    "radiation_summary.to_csv(os.path.join(base_path, \"radiation_descriptive_summary.csv\"), index=False)\n",
    "\n",
    "# Display the results in Jupyter\n",
    "from IPython.display import display\n",
    "\n",
    "print(\"Telemetry Descriptive Statistics Summary:\")\n",
    "display(telemetry_summary)\n",
    "\n",
    "print(\"\\nRadiation Descriptive Statistics Summary:\")\n",
    "display(radiation_summary)\n"
   ]
  },
  {
   "cell_type": "markdown",
   "id": "f35dc99e",
   "metadata": {},
   "source": [
    "### Section 10 - Streamlit Dashboard"
   ]
  },
  {
   "cell_type": "code",
   "execution_count": null,
   "id": "2edd422b",
   "metadata": {
    "scrolled": true
   },
   "outputs": [],
   "source": [
    "# app.py - Streamlit Dashboard for Data Mining for Space Habitats\n",
    "\n",
    "import streamlit as st\n",
    "import os\n",
    "import pandas as pd\n",
    "import matplotlib.pyplot as plt\n",
    "from PIL import Image\n",
    "\n",
    "st.set_page_config(page_title=\"Space Habitat Dashboard\", layout=\"wide\")\n",
    "st.title(\"🛰️ Space Habitat Anomaly & Forecast Dashboard\")\n",
    "st.markdown(\"Explore ISS telemetry anomalies, LSTM forecasts, and omics responses (RR-1).\")\n",
    "\n",
    "data_dir = \"anomaly_forecast_outputs\"\n",
    "\n",
    "missions = sorted([d for d in os.listdir(data_dir) if os.path.isdir(os.path.join(data_dir, d))])\n",
    "mission = st.selectbox(\"Select Mission\", missions)\n",
    "\n",
    "summary_path = os.path.join(data_dir, f\"{mission}_forecast_summary.csv\")\n",
    "if os.path.exists(summary_path):\n",
    "    summary_df = pd.read_csv(summary_path)\n",
    "    variables = summary_df[\"Variable\"].tolist()\n",
    "    var = st.selectbox(\"Select Variable\", variables)\n",
    "\n",
    "    col_path = os.path.join(data_dir, mission, var)\n",
    "\n",
    "    st.subheader(f\" {var} Forecast for {mission}\")\n",
    "    fc_path = os.path.join(col_path, \"lstm_forecast.png\")\n",
    "    if os.path.exists(fc_path):\n",
    "        st.image(fc_path, caption=\"LSTM Forecast\", use_column_width=True)\n",
    "\n",
    "    st.subheader(\" LSTM Reconstruction Error\")\n",
    "    ae_path = os.path.join(col_path, \"lstm_reconstruction_error.png\")\n",
    "    if os.path.exists(ae_path):\n",
    "        st.image(ae_path, caption=\"Reconstruction Error\", use_column_width=True)\n",
    "\n",
    "    st.subheader(\" Anomaly Plots\")\n",
    "    c1, c2 = st.columns(2)\n",
    "    with c1:\n",
    "        z_path = os.path.join(col_path, \"zscore_anomalies.png\")\n",
    "        if os.path.exists(z_path): st.image(z_path, caption=\"Z-Score Anomalies\", use_column_width=True)\n",
    "    with c2:\n",
    "        ewma_path = os.path.join(col_path, \"ewma_anomalies.png\")\n",
    "        if os.path.exists(ewma_path): st.image(ewma_path, caption=\"EWMA Anomalies\", use_column_width=True)\n",
    "\n",
    "    st.subheader(\" Metrics Summary\")\n",
    "    metrics_path = os.path.join(col_path, \"metrics.txt\")\n",
    "    if os.path.exists(metrics_path):\n",
    "        with open(metrics_path) as f:\n",
    "            st.text(f.read())\n",
    "\n",
    "st.divider()\n",
    "\n",
    "if mission == \"RR-1\":\n",
    "    st.header(\" RR-1 Omics Summary\")\n",
    "\n",
    "    up_path = os.path.join(data_dir, \"rr1_top_upregulated_genes.csv\")\n",
    "    down_path = os.path.join(data_dir, \"rr1_top_downregulated_genes.csv\")\n",
    "\n",
    "    if os.path.exists(up_path):\n",
    "        st.subheader(\"Top Upregulated Genes\")\n",
    "        st.dataframe(pd.read_csv(up_path).round(4))\n",
    "\n",
    "    if os.path.exists(down_path):\n",
    "        st.subheader(\"Top Downregulated Genes\")\n",
    "        st.dataframe(pd.read_csv(down_path).round(4))\n",
    "\n",
    "    pca_path = os.path.join(data_dir, \"rr1_pca_summary.csv\")\n",
    "    if os.path.exists(pca_path):\n",
    "        st.subheader(\"Omics PCA Table\")\n",
    "        st.dataframe(pd.read_csv(pca_path).round(4))\n"
   ]
  },
  {
   "cell_type": "code",
   "execution_count": null,
   "id": "6aaaf052",
   "metadata": {},
   "outputs": [],
   "source": []
  },
  {
   "cell_type": "markdown",
   "id": "b4f7cbf3-26dd-4bb5-b8e0-74c933e9d18f",
   "metadata": {},
   "source": [
    "### Section 11: Evaluation and Insights\n",
    "\n",
    "#### 11.1 Forecasting and Anomaly Detection Performance\n",
    "\n",
    "**LSTM Forecasting Performance**\n",
    "\n",
    "**Key Observations:**\n",
    "\n",
    "**Anomaly Detection Effectiveness**\n",
    "\n",
    "#### 11.2 Biological Linkage via Omics Data (RR-1)\n",
    "\n",
    "**Findings:**\n",
    "\n",
    "#### 11.3 Pattern and Relationship Insights\n",
    "\n",
    "**STL and FFT Observations:**\n",
    "\n",
    "**Correlation and Causality Analysis:**\n",
    "\n",
    "#### 11.4 Dashboard Usability\n",
    "\n",
    "#### 11.5 Key Findings and Future Applications\n",
    "\n",
    "**Future Work Recommendations:**\n",
    "\n",
    "### 11.6 Descriptive Statistical Summary\n",
    "\n",
    "#### Telemetry Variables (RR-1)\n",
    "\n",
    "#### Radiation Variables (RR-1)\n",
    "\n",
    "\n",
    "### 11.7 Prescriptive Statistical Insights\n",
    "\n",
    "#### Environmental Monitoring Recommendations\n",
    "\n",
    "#### Radiation-Aware Activity Scheduling\n",
    "\n",
    "#### Sampling and Health Monitoring Triggers\n",
    "\n",
    "#### Onboard Predictive Infrastructure\n",
    "\n",
    "#### Habitat Design and Sensor Deployment\n",
    "\n",
    "#### Recommendations for Artemis and Future Missions\n",
    "\n",
    "---\n",
    "\n",
    "### Section 12: Conclusion and Lessons Learned\n",
    "\n",
    "#### Summary of Insights\n",
    "\n",
    "#### Limitations\n",
    "\n",
    "#### Project Challenges and Solutions\n",
    "\n",
    "#### Recommendations and Next Steps\n"
   ]
  },
  {
   "cell_type": "markdown",
   "id": "0ea80afc",
   "metadata": {},
   "source": [
    "# End of code"
   ]
  },
  {
   "cell_type": "code",
   "execution_count": null,
   "id": "81f3604f",
   "metadata": {},
   "outputs": [],
   "source": []
  }
 ],
 "metadata": {
  "kernelspec": {
   "display_name": "Python (dlclass)",
   "language": "python",
   "name": "dlclass"
  },
  "language_info": {
   "codemirror_mode": {
    "name": "ipython",
    "version": 3
   },
   "file_extension": ".py",
   "mimetype": "text/x-python",
   "name": "python",
   "nbconvert_exporter": "python",
   "pygments_lexer": "ipython3",
   "version": "3.10.18"
  },
  "widgets": {
   "application/vnd.jupyter.widget-state+json": {
    "state": {
     "0105d7c8abe44456b948142e8623c03b": {
      "model_module": "@jupyter-widgets/base",
      "model_module_version": "2.0.0",
      "model_name": "LayoutModel",
      "state": {}
     },
     "05412d96764c43a5b050868121839d39": {
      "model_module": "@jupyter-widgets/base",
      "model_module_version": "2.0.0",
      "model_name": "LayoutModel",
      "state": {}
     },
     "055f81b493fe466c95ec2f41e4bd7f67": {
      "model_module": "@jupyter-widgets/base",
      "model_module_version": "2.0.0",
      "model_name": "LayoutModel",
      "state": {}
     },
     "056fe106e4f2478e9ff3672f4db5765b": {
      "model_module": "@jupyter-widgets/controls",
      "model_module_version": "2.0.0",
      "model_name": "ProgressStyleModel",
      "state": {
       "description_width": ""
      }
     },
     "0900a3226ed44e0093aaff9843b84c23": {
      "model_module": "@jupyter-widgets/controls",
      "model_module_version": "2.0.0",
      "model_name": "HTMLStyleModel",
      "state": {
       "description_width": "",
       "font_size": null,
       "text_color": null
      }
     },
     "0a715919607e4b4cb39477c58b5d8489": {
      "model_module": "@jupyter-widgets/base",
      "model_module_version": "2.0.0",
      "model_name": "LayoutModel",
      "state": {}
     },
     "0af197ab626e40de88b47900ac5670a2": {
      "model_module": "@jupyter-widgets/controls",
      "model_module_version": "2.0.0",
      "model_name": "HTMLModel",
      "state": {
       "layout": "IPY_MODEL_f7c532e2c0b741ef99375798df72dd4f",
       "style": "IPY_MODEL_91f56b39007045be8318b12b6d79aeb4",
       "value": " 3/3 [11:06&lt;00:00, 222.07s/it]"
      }
     },
     "0cb650448d8544318f421b01d80d9a8e": {
      "model_module": "@jupyter-widgets/controls",
      "model_module_version": "2.0.0",
      "model_name": "FloatProgressModel",
      "state": {
       "layout": "IPY_MODEL_1c5715b5fed84df18157d755d4f73873",
       "max": 3,
       "style": "IPY_MODEL_97c39a9719bf4943a62a66aa03ab1183",
       "value": 3
      }
     },
     "0ccb3a8c92eb45f5979fab8b5a65f788": {
      "model_module": "@jupyter-widgets/base",
      "model_module_version": "2.0.0",
      "model_name": "LayoutModel",
      "state": {}
     },
     "0d56f9b2cc964992bbf3b119b48930d2": {
      "model_module": "@jupyter-widgets/controls",
      "model_module_version": "2.0.0",
      "model_name": "FloatProgressModel",
      "state": {
       "layout": "IPY_MODEL_15b17fdaeef3409ca6e90d0cd320f80e",
       "max": 4,
       "style": "IPY_MODEL_e6b2418a51934977a8082ed20861a45c",
       "value": 4
      }
     },
     "10acd205ec454c31a841f7cfd2d755b5": {
      "model_module": "@jupyter-widgets/controls",
      "model_module_version": "2.0.0",
      "model_name": "HTMLModel",
      "state": {
       "layout": "IPY_MODEL_1c3c01b207534ff8b9f7569005fb84e5",
       "style": "IPY_MODEL_48043d86d37847a6bf216f2a3aa6f45b",
       "value": "RR-12 Telemetry: 100%"
      }
     },
     "11248b09fd9d4c1a85f3d5a989ac1ea5": {
      "model_module": "@jupyter-widgets/controls",
      "model_module_version": "2.0.0",
      "model_name": "HTMLModel",
      "state": {
       "layout": "IPY_MODEL_f6c7f24f409245b0aef62cad42e1d591",
       "style": "IPY_MODEL_cbda992a714f449db286acee26f072a9",
       "value": "RR-3 Telemetry: 100%"
      }
     },
     "12b03d4116674a6fbf8a79e1af5bbb00": {
      "model_module": "@jupyter-widgets/controls",
      "model_module_version": "2.0.0",
      "model_name": "HTMLModel",
      "state": {
       "layout": "IPY_MODEL_723325f882b946e0b1955b4091b4cd96",
       "style": "IPY_MODEL_7a823eb46e824b5793566d700e2f5d93",
       "value": "RR-19 Telemetry: 100%"
      }
     },
     "1371f2e616ce4e31bb24db807f5beb04": {
      "model_module": "@jupyter-widgets/controls",
      "model_module_version": "2.0.0",
      "model_name": "HTMLStyleModel",
      "state": {
       "description_width": "",
       "font_size": null,
       "text_color": null
      }
     },
     "13cf77d916ce4e8d889dadc9f2f9a69e": {
      "model_module": "@jupyter-widgets/controls",
      "model_module_version": "2.0.0",
      "model_name": "ProgressStyleModel",
      "state": {
       "description_width": ""
      }
     },
     "14bb949239804689aa1d0f8ddb5154da": {
      "model_module": "@jupyter-widgets/controls",
      "model_module_version": "2.0.0",
      "model_name": "HTMLModel",
      "state": {
       "layout": "IPY_MODEL_6d02e1c759944b48aff854cf9b8d57fd",
       "style": "IPY_MODEL_ff914fb81c4e4dc69f38c7773f1af6eb",
       "value": " 4/4 [13:00&lt;00:00, 195.25s/it]"
      }
     },
     "15b17fdaeef3409ca6e90d0cd320f80e": {
      "model_module": "@jupyter-widgets/base",
      "model_module_version": "2.0.0",
      "model_name": "LayoutModel",
      "state": {}
     },
     "1786ef92417144f095c748162f894f4b": {
      "model_module": "@jupyter-widgets/controls",
      "model_module_version": "2.0.0",
      "model_name": "HTMLStyleModel",
      "state": {
       "description_width": "",
       "font_size": null,
       "text_color": null
      }
     },
     "17bea4318e7d439c82b5c3e213a1d63b": {
      "model_module": "@jupyter-widgets/base",
      "model_module_version": "2.0.0",
      "model_name": "LayoutModel",
      "state": {
       "visibility": "hidden"
      }
     },
     "186adaf2d0da4d1eab9424c121d67133": {
      "model_module": "@jupyter-widgets/base",
      "model_module_version": "2.0.0",
      "model_name": "LayoutModel",
      "state": {
       "visibility": "hidden"
      }
     },
     "1abc260f1e6b46dbabfdba5200ef666b": {
      "model_module": "@jupyter-widgets/controls",
      "model_module_version": "2.0.0",
      "model_name": "FloatProgressModel",
      "state": {
       "layout": "IPY_MODEL_cb312b7eb19a4b308870424323b75d40",
       "max": 4,
       "style": "IPY_MODEL_b00e10213e8b409b823007b730523d16",
       "value": 4
      }
     },
     "1c3c01b207534ff8b9f7569005fb84e5": {
      "model_module": "@jupyter-widgets/base",
      "model_module_version": "2.0.0",
      "model_name": "LayoutModel",
      "state": {}
     },
     "1c5715b5fed84df18157d755d4f73873": {
      "model_module": "@jupyter-widgets/base",
      "model_module_version": "2.0.0",
      "model_name": "LayoutModel",
      "state": {}
     },
     "1cad01a5ece04e1d87f58570779d0f54": {
      "model_module": "@jupyter-widgets/base",
      "model_module_version": "2.0.0",
      "model_name": "LayoutModel",
      "state": {
       "visibility": "hidden"
      }
     },
     "1cc53e06de7e4b71a63e4571580c47c1": {
      "model_module": "@jupyter-widgets/base",
      "model_module_version": "2.0.0",
      "model_name": "LayoutModel",
      "state": {}
     },
     "1ffd29006378488ea8536f98f556f673": {
      "model_module": "@jupyter-widgets/base",
      "model_module_version": "2.0.0",
      "model_name": "LayoutModel",
      "state": {}
     },
     "2052a67a5ca341cbba670dfcb3245901": {
      "model_module": "@jupyter-widgets/controls",
      "model_module_version": "2.0.0",
      "model_name": "HTMLStyleModel",
      "state": {
       "description_width": "",
       "font_size": null,
       "text_color": null
      }
     },
     "23cf2f5c10f14be08fe176ff703bba7a": {
      "model_module": "@jupyter-widgets/controls",
      "model_module_version": "2.0.0",
      "model_name": "HTMLModel",
      "state": {
       "layout": "IPY_MODEL_1ffd29006378488ea8536f98f556f673",
       "style": "IPY_MODEL_1371f2e616ce4e31bb24db807f5beb04",
       "value": "RR-1 Telemetry: 100%"
      }
     },
     "2e8b82397f83496b987a6a844a810190": {
      "model_module": "@jupyter-widgets/base",
      "model_module_version": "2.0.0",
      "model_name": "LayoutModel",
      "state": {}
     },
     "30e8f08a98774c1ca50c51c47e0bc174": {
      "model_module": "@jupyter-widgets/controls",
      "model_module_version": "2.0.0",
      "model_name": "HTMLStyleModel",
      "state": {
       "description_width": "",
       "font_size": null,
       "text_color": null
      }
     },
     "312bebc091274fcbb8b4502b83bd46f0": {
      "model_module": "@jupyter-widgets/controls",
      "model_module_version": "2.0.0",
      "model_name": "HTMLStyleModel",
      "state": {
       "description_width": "",
       "font_size": null,
       "text_color": null
      }
     },
     "35f2c27af36d4244ba0fce500e67f706": {
      "model_module": "@jupyter-widgets/controls",
      "model_module_version": "2.0.0",
      "model_name": "ProgressStyleModel",
      "state": {
       "description_width": ""
      }
     },
     "381de98e1d76401bab6fce89c854634a": {
      "model_module": "@jupyter-widgets/controls",
      "model_module_version": "2.0.0",
      "model_name": "HTMLModel",
      "state": {
       "layout": "IPY_MODEL_b5590886c8ba46f1b01e4e7beb1c6e9c",
       "style": "IPY_MODEL_0900a3226ed44e0093aaff9843b84c23",
       "value": " 4/4 [15:08&lt;00:00, 227.30s/it]"
      }
     },
     "39062a94f95c4ffeaecb849a39fc77d7": {
      "model_module": "@jupyter-widgets/base",
      "model_module_version": "2.0.0",
      "model_name": "LayoutModel",
      "state": {
       "visibility": "hidden"
      }
     },
     "48043d86d37847a6bf216f2a3aa6f45b": {
      "model_module": "@jupyter-widgets/controls",
      "model_module_version": "2.0.0",
      "model_name": "HTMLStyleModel",
      "state": {
       "description_width": "",
       "font_size": null,
       "text_color": null
      }
     },
     "48a6cdd0136f45f7a0a386662d709369": {
      "model_module": "@jupyter-widgets/controls",
      "model_module_version": "2.0.0",
      "model_name": "FloatProgressModel",
      "state": {
       "layout": "IPY_MODEL_58dd4a6bb5a04c07a10d730c5fb2803b",
       "max": 4,
       "style": "IPY_MODEL_69f44ca764334216a6af1a7c4837b98b",
       "value": 4
      }
     },
     "4a78f03a54a94f80944e688f552037c8": {
      "model_module": "@jupyter-widgets/base",
      "model_module_version": "2.0.0",
      "model_name": "LayoutModel",
      "state": {}
     },
     "4b79b19cfcd447e98843fc9a9ed51fea": {
      "model_module": "@jupyter-widgets/controls",
      "model_module_version": "2.0.0",
      "model_name": "HTMLModel",
      "state": {
       "layout": "IPY_MODEL_7a2f7decad5f4d3cb8013dacb941c246",
       "style": "IPY_MODEL_53e4ae9228ed4a4c8762cca2737ad945",
       "value": " 4/4 [17:22&lt;00:00, 260.49s/it]"
      }
     },
     "4cf86187267643c7bb0a35354a24a598": {
      "model_module": "@jupyter-widgets/base",
      "model_module_version": "2.0.0",
      "model_name": "LayoutModel",
      "state": {}
     },
     "4d098cc28c5d4c1c9701646b266c8dce": {
      "model_module": "@jupyter-widgets/base",
      "model_module_version": "2.0.0",
      "model_name": "LayoutModel",
      "state": {}
     },
     "519de2b170c6484d81f08be8ce5ef658": {
      "model_module": "@jupyter-widgets/controls",
      "model_module_version": "2.0.0",
      "model_name": "HTMLModel",
      "state": {
       "layout": "IPY_MODEL_53a09848271c45e9a924b5ce40838701",
       "style": "IPY_MODEL_b026cb411c014b409f5889d0dfdba75e",
       "value": " 3/3 [11:27&lt;00:00, 228.52s/it]"
      }
     },
     "53a09848271c45e9a924b5ce40838701": {
      "model_module": "@jupyter-widgets/base",
      "model_module_version": "2.0.0",
      "model_name": "LayoutModel",
      "state": {}
     },
     "53e4ae9228ed4a4c8762cca2737ad945": {
      "model_module": "@jupyter-widgets/controls",
      "model_module_version": "2.0.0",
      "model_name": "HTMLStyleModel",
      "state": {
       "description_width": "",
       "font_size": null,
       "text_color": null
      }
     },
     "549dfeb0c78b47308f65aa4af133b999": {
      "model_module": "@jupyter-widgets/controls",
      "model_module_version": "2.0.0",
      "model_name": "HBoxModel",
      "state": {
       "children": [
        "IPY_MODEL_c50926b1af3c4e0792bac244d9f2ac99",
        "IPY_MODEL_5eeb43891fb94883ae11e7c3f2f9578d",
        "IPY_MODEL_9e6b9917a4c24b95930cf31969c2bf41"
       ],
       "layout": "IPY_MODEL_8f0057d60f1f47299a7e91353706a0c4"
      }
     },
     "56ae1130a1204d749a1dc97a51eee6d9": {
      "model_module": "@jupyter-widgets/controls",
      "model_module_version": "2.0.0",
      "model_name": "HTMLModel",
      "state": {
       "layout": "IPY_MODEL_89d0f76767d3451282e00d7a1e119c38",
       "style": "IPY_MODEL_312bebc091274fcbb8b4502b83bd46f0",
       "value": " 3/3 [16:33&lt;00:00, 330.85s/it]"
      }
     },
     "58dd4a6bb5a04c07a10d730c5fb2803b": {
      "model_module": "@jupyter-widgets/base",
      "model_module_version": "2.0.0",
      "model_name": "LayoutModel",
      "state": {}
     },
     "5bb46903844245beb7b810b6d6684918": {
      "model_module": "@jupyter-widgets/controls",
      "model_module_version": "2.0.0",
      "model_name": "FloatProgressModel",
      "state": {
       "layout": "IPY_MODEL_ef4476c85b964a4b988976c7c8449b61",
       "max": 4,
       "style": "IPY_MODEL_ca686b0f9a90413b9b840a666175de4c",
       "value": 4
      }
     },
     "5eeb43891fb94883ae11e7c3f2f9578d": {
      "model_module": "@jupyter-widgets/controls",
      "model_module_version": "2.0.0",
      "model_name": "FloatProgressModel",
      "state": {
       "bar_style": "success",
       "layout": "IPY_MODEL_a9044765612543a7a9908a174eaeb035",
       "max": 6,
       "style": "IPY_MODEL_056fe106e4f2478e9ff3672f4db5765b",
       "value": 6
      }
     },
     "6220b205807b4e9586b010162aad3c5d": {
      "model_module": "@jupyter-widgets/controls",
      "model_module_version": "2.0.0",
      "model_name": "ProgressStyleModel",
      "state": {
       "description_width": ""
      }
     },
     "62f7d4f971af4188a9b04eb5b8d773b5": {
      "model_module": "@jupyter-widgets/controls",
      "model_module_version": "2.0.0",
      "model_name": "HTMLModel",
      "state": {
       "layout": "IPY_MODEL_1cc53e06de7e4b71a63e4571580c47c1",
       "style": "IPY_MODEL_c99a2a3f459041479b20073e92abd094",
       "value": "RR-6 Radiation: 100%"
      }
     },
     "651d57e1c93943beaed8ef1d30932887": {
      "model_module": "@jupyter-widgets/controls",
      "model_module_version": "2.0.0",
      "model_name": "HTMLModel",
      "state": {
       "layout": "IPY_MODEL_4a78f03a54a94f80944e688f552037c8",
       "style": "IPY_MODEL_a1dd42b9310b43fc9850f23d2024866f",
       "value": " 3/3 [09:35&lt;00:00, 191.83s/it]"
      }
     },
     "66ed3bfb60684456a90d110d472a60a4": {
      "model_module": "@jupyter-widgets/base",
      "model_module_version": "2.0.0",
      "model_name": "LayoutModel",
      "state": {
       "visibility": "hidden"
      }
     },
     "67e581514e594e9d8a0b4270bf401fab": {
      "model_module": "@jupyter-widgets/controls",
      "model_module_version": "2.0.0",
      "model_name": "HTMLModel",
      "state": {
       "layout": "IPY_MODEL_b1b1797d002c43578c4ae160b4944c0f",
       "style": "IPY_MODEL_faf41b0cb1734fbea8fed4b49ac56ef6",
       "value": " 3/3 [09:31&lt;00:00, 190.32s/it]"
      }
     },
     "69f44ca764334216a6af1a7c4837b98b": {
      "model_module": "@jupyter-widgets/controls",
      "model_module_version": "2.0.0",
      "model_name": "ProgressStyleModel",
      "state": {
       "description_width": ""
      }
     },
     "6d02e1c759944b48aff854cf9b8d57fd": {
      "model_module": "@jupyter-widgets/base",
      "model_module_version": "2.0.0",
      "model_name": "LayoutModel",
      "state": {}
     },
     "6edc876eb207481b9039bb009cfae109": {
      "model_module": "@jupyter-widgets/controls",
      "model_module_version": "2.0.0",
      "model_name": "HTMLModel",
      "state": {
       "layout": "IPY_MODEL_9f893d1f90104ddf8c24d002be608673",
       "style": "IPY_MODEL_8d20bf4aaad64588bcbc3279cc4d5890",
       "value": "RR-12 Radiation: 100%"
      }
     },
     "723325f882b946e0b1955b4091b4cd96": {
      "model_module": "@jupyter-widgets/base",
      "model_module_version": "2.0.0",
      "model_name": "LayoutModel",
      "state": {}
     },
     "72c8f80374b14b19bf20ac2afff676a2": {
      "model_module": "@jupyter-widgets/base",
      "model_module_version": "2.0.0",
      "model_name": "LayoutModel",
      "state": {}
     },
     "75d2190d284741d7b1b523e272728f38": {
      "model_module": "@jupyter-widgets/base",
      "model_module_version": "2.0.0",
      "model_name": "LayoutModel",
      "state": {}
     },
     "790182fefe7846c68c03e03aff79aa6d": {
      "model_module": "@jupyter-widgets/controls",
      "model_module_version": "2.0.0",
      "model_name": "HTMLModel",
      "state": {
       "layout": "IPY_MODEL_2e8b82397f83496b987a6a844a810190",
       "style": "IPY_MODEL_9b2a80260afe4d5a83f1a26567a35e2f",
       "value": " 3/3 [13:33&lt;00:00, 271.15s/it]"
      }
     },
     "7a2f7decad5f4d3cb8013dacb941c246": {
      "model_module": "@jupyter-widgets/base",
      "model_module_version": "2.0.0",
      "model_name": "LayoutModel",
      "state": {}
     },
     "7a823eb46e824b5793566d700e2f5d93": {
      "model_module": "@jupyter-widgets/controls",
      "model_module_version": "2.0.0",
      "model_name": "HTMLStyleModel",
      "state": {
       "description_width": "",
       "font_size": null,
       "text_color": null
      }
     },
     "7c3733078cc245819ee36287f0019c9c": {
      "model_module": "@jupyter-widgets/base",
      "model_module_version": "2.0.0",
      "model_name": "LayoutModel",
      "state": {
       "visibility": "hidden"
      }
     },
     "7e7734fff3114147af8e8f4ae047c1a2": {
      "model_module": "@jupyter-widgets/base",
      "model_module_version": "2.0.0",
      "model_name": "LayoutModel",
      "state": {}
     },
     "800e4a0fa81949f5accdad5285417efc": {
      "model_module": "@jupyter-widgets/base",
      "model_module_version": "2.0.0",
      "model_name": "LayoutModel",
      "state": {
       "visibility": "hidden"
      }
     },
     "874112f47b4847248a2e5e45944daa60": {
      "model_module": "@jupyter-widgets/controls",
      "model_module_version": "2.0.0",
      "model_name": "HTMLStyleModel",
      "state": {
       "description_width": "",
       "font_size": null,
       "text_color": null
      }
     },
     "89d0f76767d3451282e00d7a1e119c38": {
      "model_module": "@jupyter-widgets/base",
      "model_module_version": "2.0.0",
      "model_name": "LayoutModel",
      "state": {}
     },
     "8d20bf4aaad64588bcbc3279cc4d5890": {
      "model_module": "@jupyter-widgets/controls",
      "model_module_version": "2.0.0",
      "model_name": "HTMLStyleModel",
      "state": {
       "description_width": "",
       "font_size": null,
       "text_color": null
      }
     },
     "8f0057d60f1f47299a7e91353706a0c4": {
      "model_module": "@jupyter-widgets/base",
      "model_module_version": "2.0.0",
      "model_name": "LayoutModel",
      "state": {}
     },
     "8f749a27a4f94ec7ab2f6a2386ffa697": {
      "model_module": "@jupyter-widgets/controls",
      "model_module_version": "2.0.0",
      "model_name": "HTMLModel",
      "state": {
       "layout": "IPY_MODEL_0a715919607e4b4cb39477c58b5d8489",
       "style": "IPY_MODEL_fe2bdf91e6aa4886b9a42cfdaee8232e",
       "value": " 4/4 [12:18&lt;00:00, 185.02s/it]"
      }
     },
     "91f56b39007045be8318b12b6d79aeb4": {
      "model_module": "@jupyter-widgets/controls",
      "model_module_version": "2.0.0",
      "model_name": "HTMLStyleModel",
      "state": {
       "description_width": "",
       "font_size": null,
       "text_color": null
      }
     },
     "9283198c21534365b59fd58bcb489eb7": {
      "model_module": "@jupyter-widgets/controls",
      "model_module_version": "2.0.0",
      "model_name": "ProgressStyleModel",
      "state": {
       "description_width": ""
      }
     },
     "97c39a9719bf4943a62a66aa03ab1183": {
      "model_module": "@jupyter-widgets/controls",
      "model_module_version": "2.0.0",
      "model_name": "ProgressStyleModel",
      "state": {
       "description_width": ""
      }
     },
     "9a29522fe51d407580dae245d3657a17": {
      "model_module": "@jupyter-widgets/controls",
      "model_module_version": "2.0.0",
      "model_name": "HTMLStyleModel",
      "state": {
       "description_width": "",
       "font_size": null,
       "text_color": null
      }
     },
     "9b2a80260afe4d5a83f1a26567a35e2f": {
      "model_module": "@jupyter-widgets/controls",
      "model_module_version": "2.0.0",
      "model_name": "HTMLStyleModel",
      "state": {
       "description_width": "",
       "font_size": null,
       "text_color": null
      }
     },
     "9b799086c969408591a9f6c603f85ccf": {
      "model_module": "@jupyter-widgets/controls",
      "model_module_version": "2.0.0",
      "model_name": "HTMLStyleModel",
      "state": {
       "description_width": "",
       "font_size": null,
       "text_color": null
      }
     },
     "9c2b7bbeddf649a0908795a6b5a33a7e": {
      "model_module": "@jupyter-widgets/controls",
      "model_module_version": "2.0.0",
      "model_name": "FloatProgressModel",
      "state": {
       "layout": "IPY_MODEL_0105d7c8abe44456b948142e8623c03b",
       "max": 3,
       "style": "IPY_MODEL_13cf77d916ce4e8d889dadc9f2f9a69e",
       "value": 3
      }
     },
     "9c6f0ffea60649ddbdc1a1aaacf7582e": {
      "model_module": "@jupyter-widgets/controls",
      "model_module_version": "2.0.0",
      "model_name": "FloatProgressModel",
      "state": {
       "layout": "IPY_MODEL_05412d96764c43a5b050868121839d39",
       "max": 4,
       "style": "IPY_MODEL_b29cb6ffd4ab444b912b838a561843b0",
       "value": 4
      }
     },
     "9e6b9917a4c24b95930cf31969c2bf41": {
      "model_module": "@jupyter-widgets/controls",
      "model_module_version": "2.0.0",
      "model_name": "HTMLModel",
      "state": {
       "layout": "IPY_MODEL_e125557750af4eb18b7687f98e6b3377",
       "style": "IPY_MODEL_9b799086c969408591a9f6c603f85ccf",
       "value": " 6/6 [2:34:36&lt;00:00, 1463.01s/it]"
      }
     },
     "9f893d1f90104ddf8c24d002be608673": {
      "model_module": "@jupyter-widgets/base",
      "model_module_version": "2.0.0",
      "model_name": "LayoutModel",
      "state": {}
     },
     "a0ba287f546242029f44ed728f811b92": {
      "model_module": "@jupyter-widgets/controls",
      "model_module_version": "2.0.0",
      "model_name": "HTMLStyleModel",
      "state": {
       "description_width": "",
       "font_size": null,
       "text_color": null
      }
     },
     "a17c18f68f074242acb7440edd49cf34": {
      "model_module": "@jupyter-widgets/base",
      "model_module_version": "2.0.0",
      "model_name": "LayoutModel",
      "state": {
       "visibility": "hidden"
      }
     },
     "a1dd42b9310b43fc9850f23d2024866f": {
      "model_module": "@jupyter-widgets/controls",
      "model_module_version": "2.0.0",
      "model_name": "HTMLStyleModel",
      "state": {
       "description_width": "",
       "font_size": null,
       "text_color": null
      }
     },
     "a270c8559aa5484f971b22d4d8527d30": {
      "model_module": "@jupyter-widgets/controls",
      "model_module_version": "2.0.0",
      "model_name": "HTMLModel",
      "state": {
       "layout": "IPY_MODEL_d523f7f36b31446ca98f7180eb90cb6a",
       "style": "IPY_MODEL_a0ba287f546242029f44ed728f811b92",
       "value": "RR-9 Radiation: 100%"
      }
     },
     "a2968afe73b54c3d8b2aeff7dcb4e8a6": {
      "model_module": "@jupyter-widgets/base",
      "model_module_version": "2.0.0",
      "model_name": "LayoutModel",
      "state": {}
     },
     "a4dccffe0f954425ad739be10a8f50b5": {
      "model_module": "@jupyter-widgets/base",
      "model_module_version": "2.0.0",
      "model_name": "LayoutModel",
      "state": {}
     },
     "a5cc695395e04ae38926b55668df74fc": {
      "model_module": "@jupyter-widgets/controls",
      "model_module_version": "2.0.0",
      "model_name": "HTMLModel",
      "state": {
       "layout": "IPY_MODEL_7e7734fff3114147af8e8f4ae047c1a2",
       "style": "IPY_MODEL_1786ef92417144f095c748162f894f4b",
       "value": "RR-1 Radiation: 100%"
      }
     },
     "a81ec47ab4274cbebf4d5e9ea6889036": {
      "model_module": "@jupyter-widgets/controls",
      "model_module_version": "2.0.0",
      "model_name": "HTMLModel",
      "state": {
       "layout": "IPY_MODEL_72c8f80374b14b19bf20ac2afff676a2",
       "style": "IPY_MODEL_2052a67a5ca341cbba670dfcb3245901",
       "value": "RR-3 Radiation: 100%"
      }
     },
     "a9044765612543a7a9908a174eaeb035": {
      "model_module": "@jupyter-widgets/base",
      "model_module_version": "2.0.0",
      "model_name": "LayoutModel",
      "state": {}
     },
     "b00e10213e8b409b823007b730523d16": {
      "model_module": "@jupyter-widgets/controls",
      "model_module_version": "2.0.0",
      "model_name": "ProgressStyleModel",
      "state": {
       "description_width": ""
      }
     },
     "b026cb411c014b409f5889d0dfdba75e": {
      "model_module": "@jupyter-widgets/controls",
      "model_module_version": "2.0.0",
      "model_name": "HTMLStyleModel",
      "state": {
       "description_width": "",
       "font_size": null,
       "text_color": null
      }
     },
     "b02cf6a7f0e34da09d57671a34467bff": {
      "model_module": "@jupyter-widgets/base",
      "model_module_version": "2.0.0",
      "model_name": "LayoutModel",
      "state": {
       "visibility": "hidden"
      }
     },
     "b1b1797d002c43578c4ae160b4944c0f": {
      "model_module": "@jupyter-widgets/base",
      "model_module_version": "2.0.0",
      "model_name": "LayoutModel",
      "state": {}
     },
     "b29cb6ffd4ab444b912b838a561843b0": {
      "model_module": "@jupyter-widgets/controls",
      "model_module_version": "2.0.0",
      "model_name": "ProgressStyleModel",
      "state": {
       "description_width": ""
      }
     },
     "b5590886c8ba46f1b01e4e7beb1c6e9c": {
      "model_module": "@jupyter-widgets/base",
      "model_module_version": "2.0.0",
      "model_name": "LayoutModel",
      "state": {}
     },
     "b7c508af0f704e669e63371b87952157": {
      "model_module": "@jupyter-widgets/controls",
      "model_module_version": "2.0.0",
      "model_name": "HTMLModel",
      "state": {
       "layout": "IPY_MODEL_fa4675d6d72e4668a80be47e84eb9c40",
       "style": "IPY_MODEL_874112f47b4847248a2e5e45944daa60",
       "value": " 4/4 [11:12&lt;00:00, 168.03s/it]"
      }
     },
     "be54054d39d346c7aa0cf20ce4ec4ca8": {
      "model_module": "@jupyter-widgets/base",
      "model_module_version": "2.0.0",
      "model_name": "LayoutModel",
      "state": {}
     },
     "bed2d10a52034ae9b7e240afe0e121be": {
      "model_module": "@jupyter-widgets/controls",
      "model_module_version": "2.0.0",
      "model_name": "HTMLStyleModel",
      "state": {
       "description_width": "",
       "font_size": null,
       "text_color": null
      }
     },
     "c50926b1af3c4e0792bac244d9f2ac99": {
      "model_module": "@jupyter-widgets/controls",
      "model_module_version": "2.0.0",
      "model_name": "HTMLModel",
      "state": {
       "layout": "IPY_MODEL_a4dccffe0f954425ad739be10a8f50b5",
       "style": "IPY_MODEL_bed2d10a52034ae9b7e240afe0e121be",
       "value": "Missions: 100%"
      }
     },
     "c59078b3158144da85605f63b9dd2f0d": {
      "model_module": "@jupyter-widgets/base",
      "model_module_version": "2.0.0",
      "model_name": "LayoutModel",
      "state": {
       "visibility": "hidden"
      }
     },
     "c5a04953716a47b8b3d9c13c0a43ceb0": {
      "model_module": "@jupyter-widgets/controls",
      "model_module_version": "2.0.0",
      "model_name": "HTMLStyleModel",
      "state": {
       "description_width": "",
       "font_size": null,
       "text_color": null
      }
     },
     "c8fb272d4f6c4c65a1c2ba4d3369a94a": {
      "model_module": "@jupyter-widgets/controls",
      "model_module_version": "2.0.0",
      "model_name": "FloatProgressModel",
      "state": {
       "layout": "IPY_MODEL_fee513a412534d40aa2ccb961acfb28c",
       "max": 3,
       "style": "IPY_MODEL_35f2c27af36d4244ba0fce500e67f706",
       "value": 3
      }
     },
     "c99a2a3f459041479b20073e92abd094": {
      "model_module": "@jupyter-widgets/controls",
      "model_module_version": "2.0.0",
      "model_name": "HTMLStyleModel",
      "state": {
       "description_width": "",
       "font_size": null,
       "text_color": null
      }
     },
     "ca686b0f9a90413b9b840a666175de4c": {
      "model_module": "@jupyter-widgets/controls",
      "model_module_version": "2.0.0",
      "model_name": "ProgressStyleModel",
      "state": {
       "description_width": ""
      }
     },
     "cb312b7eb19a4b308870424323b75d40": {
      "model_module": "@jupyter-widgets/base",
      "model_module_version": "2.0.0",
      "model_name": "LayoutModel",
      "state": {}
     },
     "cbda992a714f449db286acee26f072a9": {
      "model_module": "@jupyter-widgets/controls",
      "model_module_version": "2.0.0",
      "model_name": "HTMLStyleModel",
      "state": {
       "description_width": "",
       "font_size": null,
       "text_color": null
      }
     },
     "cd77598119c64848afc9dffd2fec8744": {
      "model_module": "@jupyter-widgets/base",
      "model_module_version": "2.0.0",
      "model_name": "LayoutModel",
      "state": {
       "visibility": "hidden"
      }
     },
     "ce1e8b04873141c3ab0aa2e64a9fb997": {
      "model_module": "@jupyter-widgets/controls",
      "model_module_version": "2.0.0",
      "model_name": "HTMLModel",
      "state": {
       "layout": "IPY_MODEL_4d098cc28c5d4c1c9701646b266c8dce",
       "style": "IPY_MODEL_c5a04953716a47b8b3d9c13c0a43ceb0",
       "value": " 4/4 [13:45&lt;00:00, 206.09s/it]"
      }
     },
     "cfbd4ddcec9c403bbcbf585a0642dad8": {
      "model_module": "@jupyter-widgets/controls",
      "model_module_version": "2.0.0",
      "model_name": "FloatProgressModel",
      "state": {
       "layout": "IPY_MODEL_4cf86187267643c7bb0a35354a24a598",
       "max": 3,
       "style": "IPY_MODEL_6220b205807b4e9586b010162aad3c5d",
       "value": 3
      }
     },
     "d523f7f36b31446ca98f7180eb90cb6a": {
      "model_module": "@jupyter-widgets/base",
      "model_module_version": "2.0.0",
      "model_name": "LayoutModel",
      "state": {}
     },
     "d68cdb32cd744d39b1a092881a733fba": {
      "model_module": "@jupyter-widgets/controls",
      "model_module_version": "2.0.0",
      "model_name": "FloatProgressModel",
      "state": {
       "layout": "IPY_MODEL_a2968afe73b54c3d8b2aeff7dcb4e8a6",
       "max": 3,
       "style": "IPY_MODEL_e55d937b10b14a538f9e1178e3286df8",
       "value": 3
      }
     },
     "d7bf50854c664df2a6dde153043df6b3": {
      "model_module": "@jupyter-widgets/base",
      "model_module_version": "2.0.0",
      "model_name": "LayoutModel",
      "state": {}
     },
     "dc019df29bf14b3aa197492891dcd861": {
      "model_module": "@jupyter-widgets/base",
      "model_module_version": "2.0.0",
      "model_name": "LayoutModel",
      "state": {
       "visibility": "hidden"
      }
     },
     "de0b4c58f18a4ac9a7b02ba6a5614250": {
      "model_module": "@jupyter-widgets/controls",
      "model_module_version": "2.0.0",
      "model_name": "FloatProgressModel",
      "state": {
       "layout": "IPY_MODEL_be54054d39d346c7aa0cf20ce4ec4ca8",
       "max": 3,
       "style": "IPY_MODEL_f8b31d99dd9847f292e96a3a402cc884",
       "value": 3
      }
     },
     "e125557750af4eb18b7687f98e6b3377": {
      "model_module": "@jupyter-widgets/base",
      "model_module_version": "2.0.0",
      "model_name": "LayoutModel",
      "state": {}
     },
     "e3da2403031a47c7a31d3642072f8fb5": {
      "model_module": "@jupyter-widgets/controls",
      "model_module_version": "2.0.0",
      "model_name": "HTMLModel",
      "state": {
       "layout": "IPY_MODEL_055f81b493fe466c95ec2f41e4bd7f67",
       "style": "IPY_MODEL_9a29522fe51d407580dae245d3657a17",
       "value": "RR-9 Telemetry: 100%"
      }
     },
     "e55d937b10b14a538f9e1178e3286df8": {
      "model_module": "@jupyter-widgets/controls",
      "model_module_version": "2.0.0",
      "model_name": "ProgressStyleModel",
      "state": {
       "description_width": ""
      }
     },
     "e5be7ceb10084d898810badc25aa5558": {
      "model_module": "@jupyter-widgets/controls",
      "model_module_version": "2.0.0",
      "model_name": "FloatProgressModel",
      "state": {
       "layout": "IPY_MODEL_75d2190d284741d7b1b523e272728f38",
       "max": 4,
       "style": "IPY_MODEL_9283198c21534365b59fd58bcb489eb7",
       "value": 4
      }
     },
     "e6b2418a51934977a8082ed20861a45c": {
      "model_module": "@jupyter-widgets/controls",
      "model_module_version": "2.0.0",
      "model_name": "ProgressStyleModel",
      "state": {
       "description_width": ""
      }
     },
     "eab526f00e2947ff987800b8436653e6": {
      "model_module": "@jupyter-widgets/controls",
      "model_module_version": "2.0.0",
      "model_name": "HTMLStyleModel",
      "state": {
       "description_width": "",
       "font_size": null,
       "text_color": null
      }
     },
     "ef4476c85b964a4b988976c7c8449b61": {
      "model_module": "@jupyter-widgets/base",
      "model_module_version": "2.0.0",
      "model_name": "LayoutModel",
      "state": {}
     },
     "f2d56fc75a1e47dbb0d5b2364925fd6f": {
      "model_module": "@jupyter-widgets/controls",
      "model_module_version": "2.0.0",
      "model_name": "HTMLModel",
      "state": {
       "layout": "IPY_MODEL_d7bf50854c664df2a6dde153043df6b3",
       "style": "IPY_MODEL_30e8f08a98774c1ca50c51c47e0bc174",
       "value": "RR-19 Radiation: 100%"
      }
     },
     "f6c7f24f409245b0aef62cad42e1d591": {
      "model_module": "@jupyter-widgets/base",
      "model_module_version": "2.0.0",
      "model_name": "LayoutModel",
      "state": {}
     },
     "f7c532e2c0b741ef99375798df72dd4f": {
      "model_module": "@jupyter-widgets/base",
      "model_module_version": "2.0.0",
      "model_name": "LayoutModel",
      "state": {}
     },
     "f8415d35cb42422780ab171fb12d8878": {
      "model_module": "@jupyter-widgets/controls",
      "model_module_version": "2.0.0",
      "model_name": "HTMLModel",
      "state": {
       "layout": "IPY_MODEL_0ccb3a8c92eb45f5979fab8b5a65f788",
       "style": "IPY_MODEL_eab526f00e2947ff987800b8436653e6",
       "value": "RR-6 Telemetry: 100%"
      }
     },
     "f8b31d99dd9847f292e96a3a402cc884": {
      "model_module": "@jupyter-widgets/controls",
      "model_module_version": "2.0.0",
      "model_name": "ProgressStyleModel",
      "state": {
       "description_width": ""
      }
     },
     "fa4675d6d72e4668a80be47e84eb9c40": {
      "model_module": "@jupyter-widgets/base",
      "model_module_version": "2.0.0",
      "model_name": "LayoutModel",
      "state": {}
     },
     "faf41b0cb1734fbea8fed4b49ac56ef6": {
      "model_module": "@jupyter-widgets/controls",
      "model_module_version": "2.0.0",
      "model_name": "HTMLStyleModel",
      "state": {
       "description_width": "",
       "font_size": null,
       "text_color": null
      }
     },
     "fe2bdf91e6aa4886b9a42cfdaee8232e": {
      "model_module": "@jupyter-widgets/controls",
      "model_module_version": "2.0.0",
      "model_name": "HTMLStyleModel",
      "state": {
       "description_width": "",
       "font_size": null,
       "text_color": null
      }
     },
     "fee513a412534d40aa2ccb961acfb28c": {
      "model_module": "@jupyter-widgets/base",
      "model_module_version": "2.0.0",
      "model_name": "LayoutModel",
      "state": {}
     },
     "ff914fb81c4e4dc69f38c7773f1af6eb": {
      "model_module": "@jupyter-widgets/controls",
      "model_module_version": "2.0.0",
      "model_name": "HTMLStyleModel",
      "state": {
       "description_width": "",
       "font_size": null,
       "text_color": null
      }
     }
    },
    "version_major": 2,
    "version_minor": 0
   }
  }
 },
 "nbformat": 4,
 "nbformat_minor": 5
}
